{
  "nbformat": 4,
  "nbformat_minor": 0,
  "metadata": {
    "colab": {
      "name": "TF exercise.ipynb",
      "provenance": [],
      "include_colab_link": true
    },
    "kernelspec": {
      "name": "python3",
      "display_name": "Python 3"
    }
  },
  "cells": [
    {
      "cell_type": "markdown",
      "metadata": {
        "id": "view-in-github",
        "colab_type": "text"
      },
      "source": [
        "<a href=\"https://colab.research.google.com/github/AronAhn/tf_udemy/blob/master/TF_exercise.ipynb\" target=\"_parent\"><img src=\"https://colab.research.google.com/assets/colab-badge.svg\" alt=\"Open In Colab\"/></a>"
      ]
    },
    {
      "cell_type": "markdown",
      "metadata": {
        "id": "d6vwUgbOqcf9",
        "colab_type": "text"
      },
      "source": [
        "refer: \n",
        "https://medium.com/ml-book/demonstration-of-tensorflow-feature-columns-tf-feature-column-3bfcca4ca5c4"
      ]
    },
    {
      "cell_type": "code",
      "metadata": {
        "id": "dc4_xvt8VKem",
        "colab_type": "code",
        "colab": {
          "base_uri": "https://localhost:8080/",
          "height": 406
        },
        "outputId": "c8c9fad7-f8db-4dc0-9ee5-dab4aff3b5e3"
      },
      "source": [
        "from __future__ import absolute_import, division, print_function, unicode_literals\n",
        "!pip install tensorflow-gpu==2.0.0-rc1\n",
        "import tensorflow as tf\n",
        "tf.compat.v1.disable_eager_execution()\n",
        "import pandas as pd"
      ],
      "execution_count": 12,
      "outputs": [
        {
          "output_type": "stream",
          "text": [
            "Requirement already satisfied: tensorflow-gpu==2.0.0-rc1 in /usr/local/lib/python3.6/dist-packages (2.0.0rc1)\n",
            "Requirement already satisfied: google-pasta>=0.1.6 in /usr/local/lib/python3.6/dist-packages (from tensorflow-gpu==2.0.0-rc1) (0.1.7)\n",
            "Requirement already satisfied: numpy<2.0,>=1.16.0 in /usr/local/lib/python3.6/dist-packages (from tensorflow-gpu==2.0.0-rc1) (1.17.3)\n",
            "Requirement already satisfied: keras-applications>=1.0.8 in /usr/local/lib/python3.6/dist-packages (from tensorflow-gpu==2.0.0-rc1) (1.0.8)\n",
            "Requirement already satisfied: six>=1.10.0 in /usr/local/lib/python3.6/dist-packages (from tensorflow-gpu==2.0.0-rc1) (1.12.0)\n",
            "Requirement already satisfied: astor>=0.6.0 in /usr/local/lib/python3.6/dist-packages (from tensorflow-gpu==2.0.0-rc1) (0.8.0)\n",
            "Requirement already satisfied: tf-estimator-nightly<1.14.0.dev2019080602,>=1.14.0.dev2019080601 in /usr/local/lib/python3.6/dist-packages (from tensorflow-gpu==2.0.0-rc1) (1.14.0.dev2019080601)\n",
            "Requirement already satisfied: tb-nightly<1.15.0a20190807,>=1.15.0a20190806 in /usr/local/lib/python3.6/dist-packages (from tensorflow-gpu==2.0.0-rc1) (1.15.0a20190806)\n",
            "Requirement already satisfied: wrapt>=1.11.1 in /usr/local/lib/python3.6/dist-packages (from tensorflow-gpu==2.0.0-rc1) (1.11.2)\n",
            "Requirement already satisfied: grpcio>=1.8.6 in /usr/local/lib/python3.6/dist-packages (from tensorflow-gpu==2.0.0-rc1) (1.15.0)\n",
            "Requirement already satisfied: termcolor>=1.1.0 in /usr/local/lib/python3.6/dist-packages (from tensorflow-gpu==2.0.0-rc1) (1.1.0)\n",
            "Requirement already satisfied: wheel>=0.26 in /usr/local/lib/python3.6/dist-packages (from tensorflow-gpu==2.0.0-rc1) (0.33.6)\n",
            "Requirement already satisfied: keras-preprocessing>=1.0.5 in /usr/local/lib/python3.6/dist-packages (from tensorflow-gpu==2.0.0-rc1) (1.1.0)\n",
            "Requirement already satisfied: absl-py>=0.7.0 in /usr/local/lib/python3.6/dist-packages (from tensorflow-gpu==2.0.0-rc1) (0.8.1)\n",
            "Requirement already satisfied: protobuf>=3.6.1 in /usr/local/lib/python3.6/dist-packages (from tensorflow-gpu==2.0.0-rc1) (3.10.0)\n",
            "Requirement already satisfied: opt-einsum>=2.3.2 in /usr/local/lib/python3.6/dist-packages (from tensorflow-gpu==2.0.0-rc1) (3.1.0)\n",
            "Requirement already satisfied: gast>=0.2.0 in /usr/local/lib/python3.6/dist-packages (from tensorflow-gpu==2.0.0-rc1) (0.2.2)\n",
            "Requirement already satisfied: h5py in /usr/local/lib/python3.6/dist-packages (from keras-applications>=1.0.8->tensorflow-gpu==2.0.0-rc1) (2.8.0)\n",
            "Requirement already satisfied: setuptools>=41.0.0 in /usr/local/lib/python3.6/dist-packages (from tb-nightly<1.15.0a20190807,>=1.15.0a20190806->tensorflow-gpu==2.0.0-rc1) (41.4.0)\n",
            "Requirement already satisfied: werkzeug>=0.11.15 in /usr/local/lib/python3.6/dist-packages (from tb-nightly<1.15.0a20190807,>=1.15.0a20190806->tensorflow-gpu==2.0.0-rc1) (0.16.0)\n",
            "Requirement already satisfied: markdown>=2.6.8 in /usr/local/lib/python3.6/dist-packages (from tb-nightly<1.15.0a20190807,>=1.15.0a20190806->tensorflow-gpu==2.0.0-rc1) (3.1.1)\n"
          ],
          "name": "stdout"
        }
      ]
    },
    {
      "cell_type": "code",
      "metadata": {
        "id": "_o9CNdtEVXBq",
        "colab_type": "code",
        "colab": {
          "base_uri": "https://localhost:8080/",
          "height": 54
        },
        "outputId": "9ddeb770-a9ae-4ed2-952b-956a1d2b7a17"
      },
      "source": [
        "from google.colab import drive\n",
        "drive.mount('/content/drive')"
      ],
      "execution_count": 13,
      "outputs": [
        {
          "output_type": "stream",
          "text": [
            "Drive already mounted at /content/drive; to attempt to forcibly remount, call drive.mount(\"/content/drive\", force_remount=True).\n"
          ],
          "name": "stdout"
        }
      ]
    },
    {
      "cell_type": "markdown",
      "metadata": {
        "id": "VkC1n7VOifYe",
        "colab_type": "text"
      },
      "source": [
        "### regression"
      ]
    },
    {
      "cell_type": "code",
      "metadata": {
        "id": "9Aq_Rw6NVaZc",
        "colab_type": "code",
        "colab": {}
      },
      "source": [
        "housing =  pd.read_csv(\"/content/drive/My Drive/udemy_tf/FULL-TENSORFLOW-NOTES-AND-DATA/02-TensorFlow-Basics/cal_housing_clean.csv\")"
      ],
      "execution_count": 0,
      "outputs": []
    },
    {
      "cell_type": "code",
      "metadata": {
        "id": "0K5SOzB3YmAS",
        "colab_type": "code",
        "colab": {}
      },
      "source": [
        "y_val = housing['medianHouseValue']\n",
        "x_data = housing.drop('medianHouseValue', axis=1)"
      ],
      "execution_count": 0,
      "outputs": []
    },
    {
      "cell_type": "code",
      "metadata": {
        "id": "AlsFjBgNYzgD",
        "colab_type": "code",
        "colab": {}
      },
      "source": [
        "from sklearn.model_selection import train_test_split\n",
        "X_train, X_test, y_train, y_test = train_test_split(x_data, y_val, test_size=0.3, random_state=101)"
      ],
      "execution_count": 0,
      "outputs": []
    },
    {
      "cell_type": "code",
      "metadata": {
        "id": "7l39T-gGY66j",
        "colab_type": "code",
        "colab": {}
      },
      "source": [
        "from sklearn.preprocessing import MinMaxScaler\n",
        "scaler = MinMaxScaler()\n",
        "scaler.fit(X_train)\n",
        "X_train = pd.DataFrame(data=scaler.transform(X_train), \n",
        "                       columns=X_train.columns,\n",
        "                       index=X_train.index)\n",
        "X_test = pd.DataFrame(data=scaler.transform(X_test),\n",
        "                      columns=X_test.columns,\n",
        "                      index=X_test.index)"
      ],
      "execution_count": 0,
      "outputs": []
    },
    {
      "cell_type": "markdown",
      "metadata": {
        "id": "g8q_ZUtNZeox",
        "colab_type": "text"
      },
      "source": [
        ""
      ]
    },
    {
      "cell_type": "code",
      "metadata": {
        "id": "jAq5hEzTZYO8",
        "colab_type": "code",
        "colab": {}
      },
      "source": [
        "age = tf.feature_column.numeric_column('housingMedianAge')\n",
        "rooms = tf.feature_column.numeric_column('totalRooms')\n",
        "bedrooms = tf.feature_column.numeric_column('totalBedrooms')\n",
        "pop = tf.feature_column.numeric_column('population')\n",
        "households = tf.feature_column.numeric_column('households')\n",
        "income = tf.feature_column.numeric_column('medianIncome')\n",
        "\n",
        "feat_cols = [age, rooms, bedrooms, pop, households, income]"
      ],
      "execution_count": 0,
      "outputs": []
    },
    {
      "cell_type": "code",
      "metadata": {
        "id": "7wjMt0ICZeG7",
        "colab_type": "code",
        "colab": {}
      },
      "source": [
        "input_func = tf.compat.v1.estimator.inputs.pandas_input_fn(\n",
        "    x=X_train, y=y_train, batch_size=10, num_epochs=1000, shuffle=True\n",
        ")"
      ],
      "execution_count": 0,
      "outputs": []
    },
    {
      "cell_type": "code",
      "metadata": {
        "id": "uBbWiJVMcOdS",
        "colab_type": "code",
        "colab": {
          "base_uri": "https://localhost:8080/",
          "height": 195
        },
        "outputId": "bb6b90cc-642b-4a59-a9cb-445b4f3fb9e1"
      },
      "source": [
        "model = tf.compat.v1.estimator.DNNRegressor(\n",
        "    hidden_units = [4,4,4], feature_columns=feat_cols)"
      ],
      "execution_count": 62,
      "outputs": [
        {
          "output_type": "stream",
          "text": [
            "INFO:tensorflow:Using default config.\n",
            "WARNING:tensorflow:Using temporary folder as model directory: /tmp/tmplpfeqxyw\n",
            "INFO:tensorflow:Using config: {'_model_dir': '/tmp/tmplpfeqxyw', '_tf_random_seed': None, '_save_summary_steps': 100, '_save_checkpoints_steps': None, '_save_checkpoints_secs': 600, '_session_config': allow_soft_placement: true\n",
            "graph_options {\n",
            "  rewrite_options {\n",
            "    meta_optimizer_iterations: ONE\n",
            "  }\n",
            "}\n",
            ", '_keep_checkpoint_max': 5, '_keep_checkpoint_every_n_hours': 10000, '_log_step_count_steps': 100, '_train_distribute': None, '_device_fn': None, '_protocol': None, '_eval_distribute': None, '_experimental_distribute': None, '_experimental_max_worker_delay_secs': None, '_service': None, '_cluster_spec': <tensorflow.python.training.server_lib.ClusterSpec object at 0x7f3b797d5c88>, '_task_type': 'worker', '_task_id': 0, '_global_id_in_cluster': 0, '_master': '', '_evaluation_master': '', '_is_chief': True, '_num_ps_replicas': 0, '_num_worker_replicas': 1}\n"
          ],
          "name": "stdout"
        }
      ]
    },
    {
      "cell_type": "code",
      "metadata": {
        "id": "u6AucdF7c7y_",
        "colab_type": "code",
        "colab": {
          "base_uri": "https://localhost:8080/",
          "height": 1000
        },
        "outputId": "771d8ca6-32a7-4f8c-ce5d-bdf5f5049aaf"
      },
      "source": [
        "model.train(input_fn=input_func, steps=20000)"
      ],
      "execution_count": 73,
      "outputs": [
        {
          "output_type": "stream",
          "text": [
            "INFO:tensorflow:global_step/sec: 271.566\n",
            "INFO:tensorflow:loss = 60043700000.0, step = 20200 (0.363 sec)\n",
            "INFO:tensorflow:global_step/sec: 274.941\n",
            "INFO:tensorflow:loss = 38000845000.0, step = 20300 (0.363 sec)\n",
            "INFO:tensorflow:global_step/sec: 274.245\n",
            "INFO:tensorflow:loss = 25305526000.0, step = 20400 (0.372 sec)\n",
            "INFO:tensorflow:global_step/sec: 239.039\n",
            "INFO:tensorflow:loss = 109463810000.0, step = 20500 (0.419 sec)\n",
            "INFO:tensorflow:global_step/sec: 257.996\n",
            "INFO:tensorflow:loss = 73656150000.0, step = 20600 (0.385 sec)\n",
            "INFO:tensorflow:global_step/sec: 288.814\n",
            "INFO:tensorflow:loss = 116013090000.0, step = 20700 (0.337 sec)\n",
            "INFO:tensorflow:global_step/sec: 292.609\n",
            "INFO:tensorflow:loss = 91915880000.0, step = 20800 (0.353 sec)\n",
            "INFO:tensorflow:global_step/sec: 276.662\n",
            "INFO:tensorflow:loss = 52695100000.0, step = 20900 (0.357 sec)\n",
            "INFO:tensorflow:global_step/sec: 277.653\n",
            "INFO:tensorflow:loss = 114409650000.0, step = 21000 (0.355 sec)\n",
            "INFO:tensorflow:global_step/sec: 285.466\n",
            "INFO:tensorflow:loss = 87078420000.0, step = 21100 (0.359 sec)\n",
            "INFO:tensorflow:global_step/sec: 266.765\n",
            "INFO:tensorflow:loss = 41410355000.0, step = 21200 (0.370 sec)\n",
            "INFO:tensorflow:global_step/sec: 281.236\n",
            "INFO:tensorflow:loss = 126527005000.0, step = 21300 (0.350 sec)\n",
            "INFO:tensorflow:global_step/sec: 285.591\n",
            "INFO:tensorflow:loss = 75173400000.0, step = 21400 (0.353 sec)\n",
            "INFO:tensorflow:global_step/sec: 277.724\n",
            "INFO:tensorflow:loss = 261582200000.0, step = 21500 (0.356 sec)\n",
            "INFO:tensorflow:global_step/sec: 279.089\n",
            "INFO:tensorflow:loss = 99543420000.0, step = 21600 (0.359 sec)\n",
            "INFO:tensorflow:global_step/sec: 283.53\n",
            "INFO:tensorflow:loss = 42856694000.0, step = 21700 (0.356 sec)\n",
            "INFO:tensorflow:global_step/sec: 287.386\n",
            "INFO:tensorflow:loss = 49198030000.0, step = 21800 (0.346 sec)\n",
            "INFO:tensorflow:global_step/sec: 274.289\n",
            "INFO:tensorflow:loss = 201435220000.0, step = 21900 (0.366 sec)\n",
            "INFO:tensorflow:global_step/sec: 285.505\n",
            "INFO:tensorflow:loss = 36566258000.0, step = 22000 (0.349 sec)\n",
            "INFO:tensorflow:global_step/sec: 280.251\n",
            "INFO:tensorflow:loss = 126493000000.0, step = 22100 (0.357 sec)\n",
            "INFO:tensorflow:global_step/sec: 265.27\n",
            "INFO:tensorflow:loss = 68647285000.0, step = 22200 (0.379 sec)\n",
            "INFO:tensorflow:global_step/sec: 276.969\n",
            "INFO:tensorflow:loss = 113635450000.0, step = 22300 (0.362 sec)\n",
            "INFO:tensorflow:global_step/sec: 263.814\n",
            "INFO:tensorflow:loss = 55010525000.0, step = 22400 (0.373 sec)\n",
            "INFO:tensorflow:global_step/sec: 275.398\n",
            "INFO:tensorflow:loss = 88643590000.0, step = 22500 (0.363 sec)\n",
            "INFO:tensorflow:global_step/sec: 259.254\n",
            "INFO:tensorflow:loss = 82140270000.0, step = 22600 (0.391 sec)\n",
            "INFO:tensorflow:global_step/sec: 258.657\n",
            "INFO:tensorflow:loss = 38639116000.0, step = 22700 (0.386 sec)\n",
            "INFO:tensorflow:global_step/sec: 243.151\n",
            "INFO:tensorflow:loss = 164064690000.0, step = 22800 (0.407 sec)\n",
            "INFO:tensorflow:global_step/sec: 243.575\n",
            "INFO:tensorflow:loss = 76842500000.0, step = 22900 (0.413 sec)\n",
            "INFO:tensorflow:global_step/sec: 252.633\n",
            "INFO:tensorflow:loss = 121279690000.0, step = 23000 (0.400 sec)\n",
            "INFO:tensorflow:global_step/sec: 249.104\n",
            "INFO:tensorflow:loss = 77079450000.0, step = 23100 (0.405 sec)\n",
            "INFO:tensorflow:global_step/sec: 222.111\n",
            "INFO:tensorflow:loss = 85264730000.0, step = 23200 (0.451 sec)\n",
            "INFO:tensorflow:global_step/sec: 242.12\n",
            "INFO:tensorflow:loss = 30363103000.0, step = 23300 (0.404 sec)\n",
            "INFO:tensorflow:global_step/sec: 251.579\n",
            "INFO:tensorflow:loss = 76576060000.0, step = 23400 (0.395 sec)\n",
            "INFO:tensorflow:global_step/sec: 248.11\n",
            "INFO:tensorflow:loss = 102199075000.0, step = 23500 (0.405 sec)\n",
            "INFO:tensorflow:global_step/sec: 237.56\n",
            "INFO:tensorflow:loss = 158522330000.0, step = 23600 (0.422 sec)\n",
            "INFO:tensorflow:global_step/sec: 248.34\n",
            "INFO:tensorflow:loss = 102394830000.0, step = 23700 (0.410 sec)\n",
            "INFO:tensorflow:global_step/sec: 241.319\n",
            "INFO:tensorflow:loss = 144857170000.0, step = 23800 (0.406 sec)\n",
            "INFO:tensorflow:global_step/sec: 244.312\n",
            "INFO:tensorflow:loss = 217199620000.0, step = 23900 (0.411 sec)\n",
            "INFO:tensorflow:global_step/sec: 249.874\n",
            "INFO:tensorflow:loss = 139390300000.0, step = 24000 (0.399 sec)\n",
            "INFO:tensorflow:global_step/sec: 271.92\n",
            "INFO:tensorflow:loss = 150683290000.0, step = 24100 (0.368 sec)\n",
            "INFO:tensorflow:global_step/sec: 282.589\n",
            "INFO:tensorflow:loss = 105751060000.0, step = 24200 (0.366 sec)\n",
            "INFO:tensorflow:global_step/sec: 267.485\n",
            "INFO:tensorflow:loss = 43914910000.0, step = 24300 (0.372 sec)\n",
            "INFO:tensorflow:global_step/sec: 280.648\n",
            "INFO:tensorflow:loss = 154121960000.0, step = 24400 (0.348 sec)\n",
            "INFO:tensorflow:global_step/sec: 267.372\n",
            "INFO:tensorflow:loss = 74102260000.0, step = 24500 (0.372 sec)\n",
            "INFO:tensorflow:global_step/sec: 271.509\n",
            "INFO:tensorflow:loss = 108925450000.0, step = 24600 (0.366 sec)\n",
            "INFO:tensorflow:global_step/sec: 287.022\n",
            "INFO:tensorflow:loss = 121234990000.0, step = 24700 (0.356 sec)\n",
            "INFO:tensorflow:global_step/sec: 280.806\n",
            "INFO:tensorflow:loss = 112895290000.0, step = 24800 (0.355 sec)\n",
            "INFO:tensorflow:global_step/sec: 301.612\n",
            "INFO:tensorflow:loss = 63696870000.0, step = 24900 (0.337 sec)\n",
            "INFO:tensorflow:global_step/sec: 288.903\n",
            "INFO:tensorflow:loss = 76963350000.0, step = 25000 (0.336 sec)\n",
            "INFO:tensorflow:global_step/sec: 267.192\n",
            "INFO:tensorflow:loss = 68278993000.0, step = 25100 (0.383 sec)\n",
            "INFO:tensorflow:global_step/sec: 261.13\n",
            "INFO:tensorflow:loss = 162353320000.0, step = 25200 (0.377 sec)\n",
            "INFO:tensorflow:global_step/sec: 302.429\n",
            "INFO:tensorflow:loss = 82469710000.0, step = 25300 (0.332 sec)\n",
            "INFO:tensorflow:global_step/sec: 292.084\n",
            "INFO:tensorflow:loss = 93801234000.0, step = 25400 (0.344 sec)\n",
            "INFO:tensorflow:global_step/sec: 298.233\n",
            "INFO:tensorflow:loss = 62928814000.0, step = 25500 (0.336 sec)\n",
            "INFO:tensorflow:global_step/sec: 266.89\n",
            "INFO:tensorflow:loss = 103009180000.0, step = 25600 (0.373 sec)\n",
            "INFO:tensorflow:global_step/sec: 306.287\n",
            "INFO:tensorflow:loss = 71903400000.0, step = 25700 (0.324 sec)\n",
            "INFO:tensorflow:global_step/sec: 303.109\n",
            "INFO:tensorflow:loss = 63544066000.0, step = 25800 (0.340 sec)\n",
            "INFO:tensorflow:global_step/sec: 267.75\n",
            "INFO:tensorflow:loss = 104198940000.0, step = 25900 (0.368 sec)\n",
            "INFO:tensorflow:global_step/sec: 289.448\n",
            "INFO:tensorflow:loss = 105786410000.0, step = 26000 (0.347 sec)\n",
            "INFO:tensorflow:global_step/sec: 292.094\n",
            "INFO:tensorflow:loss = 129642545000.0, step = 26100 (0.333 sec)\n",
            "INFO:tensorflow:global_step/sec: 318.216\n",
            "INFO:tensorflow:loss = 147584880000.0, step = 26200 (0.314 sec)\n",
            "INFO:tensorflow:global_step/sec: 308.085\n",
            "INFO:tensorflow:loss = 42496365000.0, step = 26300 (0.325 sec)\n",
            "INFO:tensorflow:global_step/sec: 272.438\n",
            "INFO:tensorflow:loss = 47327450000.0, step = 26400 (0.373 sec)\n",
            "INFO:tensorflow:global_step/sec: 281.458\n",
            "INFO:tensorflow:loss = 92226760000.0, step = 26500 (0.362 sec)\n",
            "INFO:tensorflow:global_step/sec: 274.574\n",
            "INFO:tensorflow:loss = 64124527000.0, step = 26600 (0.365 sec)\n",
            "INFO:tensorflow:global_step/sec: 265.28\n",
            "INFO:tensorflow:loss = 78627960000.0, step = 26700 (0.370 sec)\n",
            "INFO:tensorflow:global_step/sec: 289.37\n",
            "INFO:tensorflow:loss = 123061895000.0, step = 26800 (0.343 sec)\n",
            "INFO:tensorflow:global_step/sec: 290.135\n",
            "INFO:tensorflow:loss = 44277764000.0, step = 26900 (0.342 sec)\n",
            "INFO:tensorflow:global_step/sec: 287.147\n",
            "INFO:tensorflow:loss = 103473610000.0, step = 27000 (0.351 sec)\n",
            "INFO:tensorflow:global_step/sec: 286.549\n",
            "INFO:tensorflow:loss = 83886720000.0, step = 27100 (0.364 sec)\n",
            "INFO:tensorflow:global_step/sec: 274.062\n",
            "INFO:tensorflow:loss = 179794540000.0, step = 27200 (0.367 sec)\n",
            "INFO:tensorflow:global_step/sec: 233.783\n",
            "INFO:tensorflow:loss = 187878900000.0, step = 27300 (0.406 sec)\n",
            "INFO:tensorflow:global_step/sec: 272.794\n",
            "INFO:tensorflow:loss = 48984072000.0, step = 27400 (0.369 sec)\n",
            "INFO:tensorflow:global_step/sec: 262.956\n",
            "INFO:tensorflow:loss = 148106080000.0, step = 27500 (0.392 sec)\n",
            "INFO:tensorflow:global_step/sec: 270.051\n",
            "INFO:tensorflow:loss = 131500515000.0, step = 27600 (0.356 sec)\n",
            "INFO:tensorflow:global_step/sec: 291.605\n",
            "INFO:tensorflow:loss = 104075010000.0, step = 27700 (0.353 sec)\n",
            "INFO:tensorflow:global_step/sec: 285.575\n",
            "INFO:tensorflow:loss = 222658580000.0, step = 27800 (0.347 sec)\n",
            "INFO:tensorflow:global_step/sec: 296.544\n",
            "INFO:tensorflow:loss = 159004360000.0, step = 27900 (0.339 sec)\n",
            "INFO:tensorflow:global_step/sec: 278.967\n",
            "INFO:tensorflow:loss = 81478345000.0, step = 28000 (0.354 sec)\n",
            "INFO:tensorflow:global_step/sec: 279.581\n",
            "INFO:tensorflow:loss = 44713525000.0, step = 28100 (0.363 sec)\n",
            "INFO:tensorflow:global_step/sec: 277.009\n",
            "INFO:tensorflow:loss = 85732440000.0, step = 28200 (0.352 sec)\n",
            "INFO:tensorflow:global_step/sec: 288.218\n",
            "INFO:tensorflow:loss = 99025310000.0, step = 28300 (0.355 sec)\n",
            "INFO:tensorflow:global_step/sec: 284.509\n",
            "INFO:tensorflow:loss = 36387310000.0, step = 28400 (0.346 sec)\n",
            "INFO:tensorflow:global_step/sec: 270.01\n",
            "INFO:tensorflow:loss = 110907030000.0, step = 28500 (0.366 sec)\n",
            "INFO:tensorflow:global_step/sec: 264.221\n",
            "INFO:tensorflow:loss = 122002700000.0, step = 28600 (0.379 sec)\n",
            "INFO:tensorflow:global_step/sec: 286.017\n",
            "INFO:tensorflow:loss = 113215790000.0, step = 28700 (0.355 sec)\n",
            "INFO:tensorflow:global_step/sec: 288.43\n",
            "INFO:tensorflow:loss = 122361410000.0, step = 28800 (0.355 sec)\n",
            "INFO:tensorflow:global_step/sec: 257.478\n",
            "INFO:tensorflow:loss = 61672047000.0, step = 28900 (0.381 sec)\n",
            "INFO:tensorflow:global_step/sec: 277.007\n",
            "INFO:tensorflow:loss = 103315240000.0, step = 29000 (0.364 sec)\n",
            "INFO:tensorflow:global_step/sec: 282.224\n",
            "INFO:tensorflow:loss = 68908070000.0, step = 29100 (0.355 sec)\n",
            "INFO:tensorflow:global_step/sec: 288.004\n",
            "INFO:tensorflow:loss = 144408050000.0, step = 29200 (0.340 sec)\n",
            "INFO:tensorflow:global_step/sec: 273.355\n",
            "INFO:tensorflow:loss = 60006867000.0, step = 29300 (0.370 sec)\n",
            "INFO:tensorflow:global_step/sec: 279.361\n",
            "INFO:tensorflow:loss = 195282370000.0, step = 29400 (0.357 sec)\n",
            "INFO:tensorflow:global_step/sec: 306.907\n",
            "INFO:tensorflow:loss = 64594362000.0, step = 29500 (0.323 sec)\n",
            "INFO:tensorflow:global_step/sec: 293.816\n",
            "INFO:tensorflow:loss = 237162460000.0, step = 29600 (0.352 sec)\n",
            "INFO:tensorflow:global_step/sec: 289.061\n",
            "INFO:tensorflow:loss = 45492507000.0, step = 29700 (0.344 sec)\n",
            "INFO:tensorflow:global_step/sec: 283.981\n",
            "INFO:tensorflow:loss = 49263160000.0, step = 29800 (0.355 sec)\n",
            "INFO:tensorflow:global_step/sec: 252.467\n",
            "INFO:tensorflow:loss = 45029847000.0, step = 29900 (0.385 sec)\n",
            "INFO:tensorflow:global_step/sec: 281.842\n",
            "INFO:tensorflow:loss = 123178100000.0, step = 30000 (0.350 sec)\n",
            "INFO:tensorflow:global_step/sec: 300.243\n",
            "INFO:tensorflow:loss = 118568624000.0, step = 30100 (0.342 sec)\n",
            "INFO:tensorflow:global_step/sec: 286.604\n",
            "INFO:tensorflow:loss = 91757890000.0, step = 30200 (0.340 sec)\n",
            "INFO:tensorflow:global_step/sec: 271.108\n",
            "INFO:tensorflow:loss = 82482150000.0, step = 30300 (0.374 sec)\n",
            "INFO:tensorflow:global_step/sec: 282.909\n",
            "INFO:tensorflow:loss = 78182646000.0, step = 30400 (0.356 sec)\n",
            "INFO:tensorflow:global_step/sec: 283.954\n",
            "INFO:tensorflow:loss = 30837645000.0, step = 30500 (0.349 sec)\n",
            "INFO:tensorflow:global_step/sec: 277.065\n",
            "INFO:tensorflow:loss = 94465580000.0, step = 30600 (0.367 sec)\n",
            "INFO:tensorflow:global_step/sec: 271.514\n",
            "INFO:tensorflow:loss = 99127580000.0, step = 30700 (0.363 sec)\n",
            "INFO:tensorflow:global_step/sec: 273.055\n",
            "INFO:tensorflow:loss = 225323990000.0, step = 30800 (0.369 sec)\n",
            "INFO:tensorflow:global_step/sec: 285.91\n",
            "INFO:tensorflow:loss = 44624660000.0, step = 30900 (0.346 sec)\n",
            "INFO:tensorflow:global_step/sec: 286.269\n",
            "INFO:tensorflow:loss = 72671820000.0, step = 31000 (0.353 sec)\n",
            "INFO:tensorflow:global_step/sec: 290.637\n",
            "INFO:tensorflow:loss = 117165015000.0, step = 31100 (0.347 sec)\n",
            "INFO:tensorflow:global_step/sec: 281.404\n",
            "INFO:tensorflow:loss = 131984360000.0, step = 31200 (0.355 sec)\n",
            "INFO:tensorflow:global_step/sec: 284.256\n",
            "INFO:tensorflow:loss = 167305450000.0, step = 31300 (0.357 sec)\n",
            "INFO:tensorflow:global_step/sec: 271.405\n",
            "INFO:tensorflow:loss = 86437920000.0, step = 31400 (0.369 sec)\n",
            "INFO:tensorflow:global_step/sec: 282.268\n",
            "INFO:tensorflow:loss = 197297440000.0, step = 31500 (0.354 sec)\n",
            "INFO:tensorflow:global_step/sec: 282.83\n",
            "INFO:tensorflow:loss = 39153373000.0, step = 31600 (0.353 sec)\n",
            "INFO:tensorflow:global_step/sec: 290.87\n",
            "INFO:tensorflow:loss = 164685270000.0, step = 31700 (0.341 sec)\n",
            "INFO:tensorflow:global_step/sec: 289.256\n",
            "INFO:tensorflow:loss = 144908630000.0, step = 31800 (0.346 sec)\n",
            "INFO:tensorflow:global_step/sec: 261.571\n",
            "INFO:tensorflow:loss = 151906070000.0, step = 31900 (0.389 sec)\n",
            "INFO:tensorflow:global_step/sec: 269.322\n",
            "INFO:tensorflow:loss = 188603250000.0, step = 32000 (0.371 sec)\n",
            "INFO:tensorflow:global_step/sec: 256.79\n",
            "INFO:tensorflow:loss = 201179190000.0, step = 32100 (0.386 sec)\n",
            "INFO:tensorflow:global_step/sec: 264.883\n",
            "INFO:tensorflow:loss = 79162380000.0, step = 32200 (0.367 sec)\n",
            "INFO:tensorflow:global_step/sec: 295.851\n",
            "INFO:tensorflow:loss = 41291338000.0, step = 32300 (0.343 sec)\n",
            "INFO:tensorflow:global_step/sec: 260.859\n",
            "INFO:tensorflow:loss = 214525940000.0, step = 32400 (0.384 sec)\n",
            "INFO:tensorflow:global_step/sec: 295.248\n",
            "INFO:tensorflow:loss = 54357533000.0, step = 32500 (0.332 sec)\n",
            "INFO:tensorflow:global_step/sec: 314.883\n",
            "INFO:tensorflow:loss = 48847585000.0, step = 32600 (0.327 sec)\n",
            "INFO:tensorflow:global_step/sec: 258.386\n",
            "INFO:tensorflow:loss = 182311200000.0, step = 32700 (0.377 sec)\n",
            "INFO:tensorflow:global_step/sec: 260.838\n",
            "INFO:tensorflow:loss = 156629760000.0, step = 32800 (0.397 sec)\n",
            "INFO:tensorflow:global_step/sec: 264.897\n",
            "INFO:tensorflow:loss = 97875920000.0, step = 32900 (0.380 sec)\n",
            "INFO:tensorflow:global_step/sec: 260.273\n",
            "INFO:tensorflow:loss = 33597633000.0, step = 33000 (0.370 sec)\n",
            "INFO:tensorflow:global_step/sec: 292.991\n",
            "INFO:tensorflow:loss = 189951950000.0, step = 33100 (0.351 sec)\n",
            "INFO:tensorflow:global_step/sec: 281.222\n",
            "INFO:tensorflow:loss = 112647760000.0, step = 33200 (0.351 sec)\n",
            "INFO:tensorflow:global_step/sec: 309.249\n",
            "INFO:tensorflow:loss = 82676470000.0, step = 33300 (0.329 sec)\n",
            "INFO:tensorflow:global_step/sec: 290.721\n",
            "INFO:tensorflow:loss = 112764140000.0, step = 33400 (0.334 sec)\n",
            "INFO:tensorflow:global_step/sec: 287.495\n",
            "INFO:tensorflow:loss = 114381620000.0, step = 33500 (0.353 sec)\n",
            "INFO:tensorflow:global_step/sec: 277.344\n",
            "INFO:tensorflow:loss = 95228130000.0, step = 33600 (0.360 sec)\n",
            "INFO:tensorflow:global_step/sec: 291.641\n",
            "INFO:tensorflow:loss = 60301283000.0, step = 33700 (0.353 sec)\n",
            "INFO:tensorflow:global_step/sec: 272.912\n",
            "INFO:tensorflow:loss = 66085920000.0, step = 33800 (0.353 sec)\n",
            "INFO:tensorflow:global_step/sec: 297.48\n",
            "INFO:tensorflow:loss = 110364000000.0, step = 33900 (0.340 sec)\n",
            "INFO:tensorflow:global_step/sec: 265.422\n",
            "INFO:tensorflow:loss = 65841123000.0, step = 34000 (0.371 sec)\n",
            "INFO:tensorflow:global_step/sec: 332.013\n",
            "INFO:tensorflow:loss = 50382344000.0, step = 34100 (0.310 sec)\n",
            "INFO:tensorflow:global_step/sec: 278.48\n",
            "INFO:tensorflow:loss = 152850800000.0, step = 34200 (0.357 sec)\n",
            "INFO:tensorflow:global_step/sec: 284.651\n",
            "INFO:tensorflow:loss = 141217450000.0, step = 34300 (0.344 sec)\n",
            "INFO:tensorflow:global_step/sec: 294.678\n",
            "INFO:tensorflow:loss = 161381380000.0, step = 34400 (0.350 sec)\n",
            "INFO:tensorflow:global_step/sec: 279.016\n",
            "INFO:tensorflow:loss = 81098514000.0, step = 34500 (0.360 sec)\n",
            "INFO:tensorflow:global_step/sec: 282.364\n",
            "INFO:tensorflow:loss = 26839153000.0, step = 34600 (0.355 sec)\n",
            "INFO:tensorflow:global_step/sec: 273.896\n",
            "INFO:tensorflow:loss = 158975250000.0, step = 34700 (0.363 sec)\n",
            "INFO:tensorflow:global_step/sec: 279.993\n",
            "INFO:tensorflow:loss = 216925490000.0, step = 34800 (0.358 sec)\n",
            "INFO:tensorflow:global_step/sec: 257.017\n",
            "INFO:tensorflow:loss = 53513683000.0, step = 34900 (0.379 sec)\n",
            "INFO:tensorflow:global_step/sec: 289.006\n",
            "INFO:tensorflow:loss = 146619680000.0, step = 35000 (0.349 sec)\n",
            "INFO:tensorflow:global_step/sec: 284.981\n",
            "INFO:tensorflow:loss = 46433296000.0, step = 35100 (0.361 sec)\n",
            "INFO:tensorflow:global_step/sec: 281.129\n",
            "INFO:tensorflow:loss = 74810980000.0, step = 35200 (0.357 sec)\n",
            "INFO:tensorflow:global_step/sec: 275.509\n",
            "INFO:tensorflow:loss = 65082410000.0, step = 35300 (0.348 sec)\n",
            "INFO:tensorflow:global_step/sec: 292.752\n",
            "INFO:tensorflow:loss = 134751445000.0, step = 35400 (0.344 sec)\n",
            "INFO:tensorflow:global_step/sec: 281.105\n",
            "INFO:tensorflow:loss = 90417810000.0, step = 35500 (0.357 sec)\n",
            "INFO:tensorflow:global_step/sec: 312.101\n",
            "INFO:tensorflow:loss = 162244030000.0, step = 35600 (0.339 sec)\n",
            "INFO:tensorflow:global_step/sec: 245.05\n",
            "INFO:tensorflow:loss = 164827600000.0, step = 35700 (0.387 sec)\n",
            "INFO:tensorflow:global_step/sec: 297.252\n",
            "INFO:tensorflow:loss = 90079265000.0, step = 35800 (0.334 sec)\n",
            "INFO:tensorflow:global_step/sec: 280.406\n",
            "INFO:tensorflow:loss = 112704010000.0, step = 35900 (0.362 sec)\n",
            "INFO:tensorflow:global_step/sec: 289.975\n",
            "INFO:tensorflow:loss = 61749200000.0, step = 36000 (0.348 sec)\n",
            "INFO:tensorflow:global_step/sec: 288.182\n",
            "INFO:tensorflow:loss = 26049880000.0, step = 36100 (0.351 sec)\n",
            "INFO:tensorflow:global_step/sec: 281.017\n",
            "INFO:tensorflow:loss = 66741965000.0, step = 36200 (0.351 sec)\n",
            "INFO:tensorflow:global_step/sec: 304.746\n",
            "INFO:tensorflow:loss = 99993590000.0, step = 36300 (0.328 sec)\n",
            "INFO:tensorflow:global_step/sec: 296.864\n",
            "INFO:tensorflow:loss = 37169150000.0, step = 36400 (0.342 sec)\n",
            "INFO:tensorflow:global_step/sec: 278.481\n",
            "INFO:tensorflow:loss = 52676740000.0, step = 36500 (0.360 sec)\n",
            "INFO:tensorflow:global_step/sec: 271.467\n",
            "INFO:tensorflow:loss = 44200460000.0, step = 36600 (0.364 sec)\n",
            "INFO:tensorflow:global_step/sec: 286.738\n",
            "INFO:tensorflow:loss = 166345650000.0, step = 36700 (0.340 sec)\n",
            "INFO:tensorflow:global_step/sec: 284.563\n",
            "INFO:tensorflow:loss = 54969508000.0, step = 36800 (0.358 sec)\n",
            "INFO:tensorflow:global_step/sec: 290.667\n",
            "INFO:tensorflow:loss = 46637715000.0, step = 36900 (0.348 sec)\n",
            "INFO:tensorflow:global_step/sec: 267.882\n",
            "INFO:tensorflow:loss = 67256816000.0, step = 37000 (0.380 sec)\n",
            "INFO:tensorflow:global_step/sec: 251.377\n",
            "INFO:tensorflow:loss = 120482930000.0, step = 37100 (0.378 sec)\n",
            "INFO:tensorflow:global_step/sec: 287.914\n",
            "INFO:tensorflow:loss = 225914600000.0, step = 37200 (0.359 sec)\n",
            "INFO:tensorflow:global_step/sec: 288.403\n",
            "INFO:tensorflow:loss = 101635600000.0, step = 37300 (0.338 sec)\n",
            "INFO:tensorflow:global_step/sec: 287.939\n",
            "INFO:tensorflow:loss = 91406270000.0, step = 37400 (0.359 sec)\n",
            "INFO:tensorflow:global_step/sec: 272.877\n",
            "INFO:tensorflow:loss = 80149960000.0, step = 37500 (0.356 sec)\n",
            "INFO:tensorflow:global_step/sec: 277.39\n",
            "INFO:tensorflow:loss = 82062705000.0, step = 37600 (0.367 sec)\n",
            "INFO:tensorflow:global_step/sec: 270.526\n",
            "INFO:tensorflow:loss = 39503716000.0, step = 37700 (0.373 sec)\n",
            "INFO:tensorflow:global_step/sec: 270.812\n",
            "INFO:tensorflow:loss = 118318285000.0, step = 37800 (0.371 sec)\n",
            "INFO:tensorflow:global_step/sec: 269.181\n",
            "INFO:tensorflow:loss = 41414873000.0, step = 37900 (0.359 sec)\n",
            "INFO:tensorflow:global_step/sec: 270.106\n",
            "INFO:tensorflow:loss = 69380350000.0, step = 38000 (0.376 sec)\n",
            "INFO:tensorflow:global_step/sec: 268.753\n",
            "INFO:tensorflow:loss = 56348557000.0, step = 38100 (0.371 sec)\n",
            "INFO:tensorflow:global_step/sec: 277.031\n",
            "INFO:tensorflow:loss = 92912170000.0, step = 38200 (0.363 sec)\n",
            "INFO:tensorflow:global_step/sec: 299.674\n",
            "INFO:tensorflow:loss = 65146757000.0, step = 38300 (0.330 sec)\n",
            "INFO:tensorflow:global_step/sec: 287.459\n",
            "INFO:tensorflow:loss = 143990690000.0, step = 38400 (0.343 sec)\n",
            "INFO:tensorflow:global_step/sec: 293.71\n",
            "INFO:tensorflow:loss = 129404840000.0, step = 38500 (0.346 sec)\n",
            "INFO:tensorflow:global_step/sec: 289.137\n",
            "INFO:tensorflow:loss = 104308300000.0, step = 38600 (0.342 sec)\n",
            "INFO:tensorflow:global_step/sec: 258.424\n",
            "INFO:tensorflow:loss = 115465360000.0, step = 38700 (0.399 sec)\n",
            "INFO:tensorflow:global_step/sec: 286.144\n",
            "INFO:tensorflow:loss = 44582940000.0, step = 38800 (0.337 sec)\n",
            "INFO:tensorflow:global_step/sec: 270.95\n",
            "INFO:tensorflow:loss = 62737620000.0, step = 38900 (0.370 sec)\n",
            "INFO:tensorflow:global_step/sec: 282.408\n",
            "INFO:tensorflow:loss = 178218010000.0, step = 39000 (0.355 sec)\n",
            "INFO:tensorflow:global_step/sec: 289.643\n",
            "INFO:tensorflow:loss = 74691320000.0, step = 39100 (0.355 sec)\n",
            "INFO:tensorflow:global_step/sec: 277.012\n",
            "INFO:tensorflow:loss = 53222384000.0, step = 39200 (0.352 sec)\n",
            "INFO:tensorflow:global_step/sec: 301.08\n",
            "INFO:tensorflow:loss = 133816780000.0, step = 39300 (0.341 sec)\n",
            "INFO:tensorflow:global_step/sec: 257.957\n",
            "INFO:tensorflow:loss = 34446475000.0, step = 39400 (0.379 sec)\n",
            "INFO:tensorflow:global_step/sec: 295.437\n",
            "INFO:tensorflow:loss = 85267690000.0, step = 39500 (0.353 sec)\n",
            "INFO:tensorflow:global_step/sec: 267.858\n",
            "INFO:tensorflow:loss = 37835723000.0, step = 39600 (0.368 sec)\n",
            "INFO:tensorflow:global_step/sec: 247.989\n",
            "INFO:tensorflow:loss = 85068590000.0, step = 39700 (0.408 sec)\n",
            "INFO:tensorflow:global_step/sec: 278.787\n",
            "INFO:tensorflow:loss = 107228280000.0, step = 39800 (0.348 sec)\n",
            "INFO:tensorflow:global_step/sec: 289.529\n",
            "INFO:tensorflow:loss = 45510943000.0, step = 39900 (0.347 sec)\n",
            "INFO:tensorflow:Saving checkpoints for 40000 into /tmp/tmplpfeqxyw/model.ckpt.\n",
            "INFO:tensorflow:Loss for final step: 27748166000.0.\n"
          ],
          "name": "stdout"
        },
        {
          "output_type": "execute_result",
          "data": {
            "text/plain": [
              "<tensorflow_estimator.python.estimator.canned.dnn.DNNRegressor at 0x7f3b79a7d748>"
            ]
          },
          "metadata": {
            "tags": []
          },
          "execution_count": 73
        }
      ]
    },
    {
      "cell_type": "code",
      "metadata": {
        "id": "2nqv8nNodLwy",
        "colab_type": "code",
        "colab": {
          "base_uri": "https://localhost:8080/",
          "height": 248
        },
        "outputId": "1802afd6-a6a2-486a-994d-43d42c610a3d"
      },
      "source": [
        "predict_input_func = tf.compat.v1.estimator.inputs.pandas_input_fn(\n",
        "    x=X_test, batch_size=10, num_epochs=1, shuffle=False\n",
        ")\n",
        "pred_gen = model.predict(predict_input_func)\n",
        "prediction = list(pred_gen)\n",
        "\n",
        "final_preds = [pred['predictions'] for pred in prediction]"
      ],
      "execution_count": 64,
      "outputs": [
        {
          "output_type": "stream",
          "text": [
            "INFO:tensorflow:Calling model_fn.\n",
            "WARNING:tensorflow:Layer dnn is casting an input tensor from dtype float64 to the layer's dtype of float32, which is new behavior in TensorFlow 2.  The layer has dtype float32 because it's dtype defaults to floatx.\n",
            "\n",
            "If you intended to run this layer in float32, you can safely ignore this warning. If in doubt, this warning is likely only an issue if you are porting a TensorFlow 1.X model to TensorFlow 2.\n",
            "\n",
            "To change all layers to have dtype float64 by default, call `tf.keras.backend.set_floatx('float64')`. To change just this layer, pass dtype='float64' to the layer constructor. If you are the author of this layer, you can disable autocasting by passing autocast=False to the base Layer constructor.\n",
            "\n",
            "INFO:tensorflow:Done calling model_fn.\n",
            "INFO:tensorflow:Graph was finalized.\n",
            "INFO:tensorflow:Restoring parameters from /tmp/tmplpfeqxyw/model.ckpt-20000\n",
            "INFO:tensorflow:Running local_init_op.\n",
            "INFO:tensorflow:Done running local_init_op.\n"
          ],
          "name": "stdout"
        }
      ]
    },
    {
      "cell_type": "code",
      "metadata": {
        "id": "MNv79vYphG2r",
        "colab_type": "code",
        "colab": {
          "base_uri": "https://localhost:8080/",
          "height": 34
        },
        "outputId": "125ca4be-8423-4baa-ae0e-0da64b167d55"
      },
      "source": [
        "from sklearn.metrics import mean_squared_error\n",
        "mean_squared_error(y_test, final_preds)**.5"
      ],
      "execution_count": 65,
      "outputs": [
        {
          "output_type": "execute_result",
          "data": {
            "text/plain": [
              "527430337.8177329"
            ]
          },
          "metadata": {
            "tags": []
          },
          "execution_count": 65
        }
      ]
    },
    {
      "cell_type": "code",
      "metadata": {
        "id": "GSiDNW7_hBP1",
        "colab_type": "code",
        "colab": {
          "base_uri": "https://localhost:8080/",
          "height": 34
        },
        "outputId": "0e64ce56-4eb7-4772-b1b4-7b647953d562"
      },
      "source": [
        "mean_squared_error(y_test, final_preds)**.5"
      ],
      "execution_count": 56,
      "outputs": [
        {
          "output_type": "execute_result",
          "data": {
            "text/plain": [
              "516019371.5056406"
            ]
          },
          "metadata": {
            "tags": []
          },
          "execution_count": 56
        }
      ]
    },
    {
      "cell_type": "markdown",
      "metadata": {
        "id": "unMifW5UijMs",
        "colab_type": "text"
      },
      "source": [
        "### classification"
      ]
    },
    {
      "cell_type": "code",
      "metadata": {
        "id": "IjVnjvTjilSL",
        "colab_type": "code",
        "colab": {}
      },
      "source": [
        "census = pd.read_csv('/content/drive/My Drive/udemy_tf/FULL-TENSORFLOW-NOTES-AND-DATA/02-TensorFlow-Basics/census_data.csv')"
      ],
      "execution_count": 0,
      "outputs": []
    },
    {
      "cell_type": "code",
      "metadata": {
        "id": "cms2roCoiosE",
        "colab_type": "code",
        "colab": {}
      },
      "source": [
        "def label_fix(label):\n",
        "  if label==' <=50K':\n",
        "    return 0\n",
        "  else: \n",
        "    return 1\n",
        "census['income_bracket'] = census['income_bracket'].apply(label_fix)"
      ],
      "execution_count": 0,
      "outputs": []
    },
    {
      "cell_type": "code",
      "metadata": {
        "id": "djVT1Yv3lsN5",
        "colab_type": "code",
        "colab": {}
      },
      "source": [
        "x_data = census.drop('income_bracket', axis=1)\n",
        "y_label = census['income_bracket']\n",
        "X_train, X_test, y_train, y_test = train_test_split(x_data, y_label, test_size=0.3, random_state=101)"
      ],
      "execution_count": 0,
      "outputs": []
    },
    {
      "cell_type": "code",
      "metadata": {
        "id": "q-mrOWgVmPQv",
        "colab_type": "code",
        "colab": {
          "base_uri": "https://localhost:8080/",
          "height": 87
        },
        "outputId": "6813ae35-e45d-477e-8ebc-0cba3c5672fa"
      },
      "source": [
        "census.columns"
      ],
      "execution_count": 71,
      "outputs": [
        {
          "output_type": "execute_result",
          "data": {
            "text/plain": [
              "Index(['age', 'workclass', 'education', 'education_num', 'marital_status',\n",
              "       'occupation', 'relationship', 'race', 'gender', 'capital_gain',\n",
              "       'capital_loss', 'hours_per_week', 'native_country', 'income_bracket'],\n",
              "      dtype='object')"
            ]
          },
          "metadata": {
            "tags": []
          },
          "execution_count": 71
        }
      ]
    },
    {
      "cell_type": "code",
      "metadata": {
        "id": "23XArH_2oZ_b",
        "colab_type": "code",
        "colab": {}
      },
      "source": [
        "gender = tf.compat.v1.feature_column.categorical_column_with_vocabulary_list(\"gender\", ['Female', 'Male'])\n",
        "occupation = tf.compat.v1.feature_column.categorical_column_with_hash_bucket(\"occupation\", hash_bucket_size=1000)\n",
        "marital_status = tf.compat.v1.feature_column.categorical_column_with_hash_bucket(\"marital_status\", hash_bucket_size=1000)\n",
        "relationship = tf.compat.v1.feature_column.categorical_column_with_hash_bucket(\"relationship\", hash_bucket_size=1000)\n",
        "education = tf.compat.v1.feature_column.categorical_column_with_hash_bucket(\"education\", hash_bucket_size=1000)\n",
        "workclass = tf.compat.v1.feature_column.categorical_column_with_hash_bucket(\"workclass\", hash_bucket_size=1000)\n",
        "native_country = tf.compat.v1.feature_column.categorical_column_with_hash_bucket(\"native_country\", hash_bucket_size=1000)"
      ],
      "execution_count": 0,
      "outputs": []
    },
    {
      "cell_type": "code",
      "metadata": {
        "id": "9RePlWSTpddS",
        "colab_type": "code",
        "colab": {}
      },
      "source": [
        "age = tf.compat.v1.feature_column.numeric_column(\"age\")\n",
        "education_num = tf.compat.v1.feature_column.numeric_column(\"education_num\")\n",
        "capital_gain = tf.compat.v1.feature_column.numeric_column(\"capital_gain\")\n",
        "capital_loss = tf.compat.v1.feature_column.numeric_column(\"capital_loss\")\n",
        "hours_per_week = tf.compat.v1.feature_column.numeric_column(\"hours_per_week\")"
      ],
      "execution_count": 0,
      "outputs": []
    },
    {
      "cell_type": "code",
      "metadata": {
        "id": "ppit-xERmKqH",
        "colab_type": "code",
        "colab": {}
      },
      "source": [
        "feat_cols = [gender, occupation, marital_status, relationship, education, workclass, native_country,\n",
        "             age, education_num, capital_gain, capital_loss, hours_per_week]"
      ],
      "execution_count": 0,
      "outputs": []
    },
    {
      "cell_type": "code",
      "metadata": {
        "id": "YtglzL1T4GWV",
        "colab_type": "code",
        "colab": {
          "base_uri": "https://localhost:8080/",
          "height": 1000
        },
        "outputId": "fd5e9582-ab64-47be-919c-b42c6a51df30"
      },
      "source": [
        "input_func = tf.compat.v1.estimator.inputs.pandas_input_fn(\n",
        "    x=X_train, y=y_train, batch_size=100, num_epochs=None, shuffle=True)\n",
        "model = tf.estimator.LinearClassifier(feature_columns=feat_cols)\n",
        "model.train(input_fn=input_func, steps=10000)"
      ],
      "execution_count": 88,
      "outputs": [
        {
          "output_type": "stream",
          "text": [
            "INFO:tensorflow:Using default config.\n",
            "WARNING:tensorflow:Using temporary folder as model directory: /tmp/tmppz311p2p\n",
            "INFO:tensorflow:Using config: {'_model_dir': '/tmp/tmppz311p2p', '_tf_random_seed': None, '_save_summary_steps': 100, '_save_checkpoints_steps': None, '_save_checkpoints_secs': 600, '_session_config': allow_soft_placement: true\n",
            "graph_options {\n",
            "  rewrite_options {\n",
            "    meta_optimizer_iterations: ONE\n",
            "  }\n",
            "}\n",
            ", '_keep_checkpoint_max': 5, '_keep_checkpoint_every_n_hours': 10000, '_log_step_count_steps': 100, '_train_distribute': None, '_device_fn': None, '_protocol': None, '_eval_distribute': None, '_experimental_distribute': None, '_experimental_max_worker_delay_secs': None, '_service': None, '_cluster_spec': <tensorflow.python.training.server_lib.ClusterSpec object at 0x7f3b79a4f8d0>, '_task_type': 'worker', '_task_id': 0, '_global_id_in_cluster': 0, '_master': '', '_evaluation_master': '', '_is_chief': True, '_num_ps_replicas': 0, '_num_worker_replicas': 1}\n",
            "INFO:tensorflow:Calling model_fn.\n",
            "WARNING:tensorflow:From /usr/local/lib/python3.6/dist-packages/tensorflow_core/python/feature_column/feature_column_v2.py:308: Layer.add_variable (from tensorflow.python.keras.engine.base_layer) is deprecated and will be removed in a future version.\n",
            "Instructions for updating:\n",
            "Please use `layer.add_weight` method instead.\n",
            "INFO:tensorflow:Done calling model_fn.\n",
            "INFO:tensorflow:Create CheckpointSaverHook.\n",
            "INFO:tensorflow:Graph was finalized.\n",
            "INFO:tensorflow:Running local_init_op.\n",
            "INFO:tensorflow:Done running local_init_op.\n",
            "INFO:tensorflow:Saving checkpoints for 0 into /tmp/tmppz311p2p/model.ckpt.\n",
            "INFO:tensorflow:loss = 0.6931472, step = 0\n",
            "INFO:tensorflow:global_step/sec: 100.493\n",
            "INFO:tensorflow:loss = 1.8873597, step = 100 (1.004 sec)\n",
            "INFO:tensorflow:global_step/sec: 151.763\n",
            "INFO:tensorflow:loss = 0.73625183, step = 200 (0.652 sec)\n",
            "INFO:tensorflow:global_step/sec: 140.983\n",
            "INFO:tensorflow:loss = 9.377118, step = 300 (0.715 sec)\n",
            "INFO:tensorflow:global_step/sec: 156.62\n",
            "INFO:tensorflow:loss = 2.9141376, step = 400 (0.633 sec)\n",
            "INFO:tensorflow:global_step/sec: 154.294\n",
            "INFO:tensorflow:loss = 5.908284, step = 500 (0.651 sec)\n",
            "INFO:tensorflow:global_step/sec: 155.194\n",
            "INFO:tensorflow:loss = 0.46876392, step = 600 (0.642 sec)\n",
            "INFO:tensorflow:global_step/sec: 149.627\n",
            "INFO:tensorflow:loss = 4.493613, step = 700 (0.674 sec)\n",
            "INFO:tensorflow:global_step/sec: 154.206\n",
            "INFO:tensorflow:loss = 1.0612593, step = 800 (0.647 sec)\n",
            "INFO:tensorflow:global_step/sec: 151.864\n",
            "INFO:tensorflow:loss = 1.671355, step = 900 (0.654 sec)\n",
            "INFO:tensorflow:global_step/sec: 151.738\n",
            "INFO:tensorflow:loss = 1.7686516, step = 1000 (0.659 sec)\n",
            "INFO:tensorflow:global_step/sec: 150.448\n",
            "INFO:tensorflow:loss = 0.9639977, step = 1100 (0.664 sec)\n",
            "INFO:tensorflow:global_step/sec: 150.226\n",
            "INFO:tensorflow:loss = 1.4305732, step = 1200 (0.671 sec)\n",
            "INFO:tensorflow:global_step/sec: 152.41\n",
            "INFO:tensorflow:loss = 0.7048065, step = 1300 (0.656 sec)\n",
            "INFO:tensorflow:global_step/sec: 146.916\n",
            "INFO:tensorflow:loss = 1.1816624, step = 1400 (0.677 sec)\n",
            "INFO:tensorflow:global_step/sec: 150.644\n",
            "INFO:tensorflow:loss = 0.33865264, step = 1500 (0.667 sec)\n",
            "INFO:tensorflow:global_step/sec: 152.216\n",
            "INFO:tensorflow:loss = 1.0683861, step = 1600 (0.655 sec)\n",
            "INFO:tensorflow:global_step/sec: 154.532\n",
            "INFO:tensorflow:loss = 0.64902914, step = 1700 (0.650 sec)\n",
            "INFO:tensorflow:global_step/sec: 153.115\n",
            "INFO:tensorflow:loss = 0.2645646, step = 1800 (0.648 sec)\n",
            "INFO:tensorflow:global_step/sec: 141.657\n",
            "INFO:tensorflow:loss = 0.35394108, step = 1900 (0.705 sec)\n",
            "INFO:tensorflow:global_step/sec: 153.461\n",
            "INFO:tensorflow:loss = 0.60757375, step = 2000 (0.655 sec)\n",
            "INFO:tensorflow:global_step/sec: 150.291\n",
            "INFO:tensorflow:loss = 0.71187866, step = 2100 (0.663 sec)\n",
            "INFO:tensorflow:global_step/sec: 142.12\n",
            "INFO:tensorflow:loss = 0.586902, step = 2200 (0.705 sec)\n",
            "INFO:tensorflow:global_step/sec: 148.482\n",
            "INFO:tensorflow:loss = 0.46338668, step = 2300 (0.676 sec)\n",
            "INFO:tensorflow:global_step/sec: 152.731\n",
            "INFO:tensorflow:loss = 1.9173651, step = 2400 (0.653 sec)\n",
            "INFO:tensorflow:global_step/sec: 151.348\n",
            "INFO:tensorflow:loss = 0.3546189, step = 2500 (0.658 sec)\n",
            "INFO:tensorflow:global_step/sec: 151.556\n",
            "INFO:tensorflow:loss = 0.37329635, step = 2600 (0.662 sec)\n",
            "INFO:tensorflow:global_step/sec: 151.612\n",
            "INFO:tensorflow:loss = 0.9641541, step = 2700 (0.661 sec)\n",
            "INFO:tensorflow:global_step/sec: 150.826\n",
            "INFO:tensorflow:loss = 0.8740427, step = 2800 (0.662 sec)\n",
            "INFO:tensorflow:global_step/sec: 149.856\n",
            "INFO:tensorflow:loss = 0.43489712, step = 2900 (0.670 sec)\n",
            "INFO:tensorflow:global_step/sec: 151.643\n",
            "INFO:tensorflow:loss = 1.7254825, step = 3000 (0.658 sec)\n",
            "INFO:tensorflow:global_step/sec: 152.247\n",
            "INFO:tensorflow:loss = 0.37001023, step = 3100 (0.653 sec)\n",
            "INFO:tensorflow:global_step/sec: 149.509\n",
            "INFO:tensorflow:loss = 0.37642562, step = 3200 (0.670 sec)\n",
            "INFO:tensorflow:global_step/sec: 150.096\n",
            "INFO:tensorflow:loss = 0.7561361, step = 3300 (0.672 sec)\n",
            "INFO:tensorflow:global_step/sec: 146.435\n",
            "INFO:tensorflow:loss = 0.3220427, step = 3400 (0.679 sec)\n",
            "INFO:tensorflow:global_step/sec: 153.767\n",
            "INFO:tensorflow:loss = 0.98747313, step = 3500 (0.648 sec)\n",
            "INFO:tensorflow:global_step/sec: 151.234\n",
            "INFO:tensorflow:loss = 1.1068218, step = 3600 (0.662 sec)\n",
            "INFO:tensorflow:global_step/sec: 150.619\n",
            "INFO:tensorflow:loss = 0.59251153, step = 3700 (0.663 sec)\n",
            "INFO:tensorflow:global_step/sec: 151.092\n",
            "INFO:tensorflow:loss = 0.63033015, step = 3800 (0.661 sec)\n",
            "INFO:tensorflow:global_step/sec: 153.858\n",
            "INFO:tensorflow:loss = 0.31358793, step = 3900 (0.655 sec)\n",
            "INFO:tensorflow:global_step/sec: 154.103\n",
            "INFO:tensorflow:loss = 0.5942324, step = 4000 (0.651 sec)\n",
            "INFO:tensorflow:global_step/sec: 149.139\n",
            "INFO:tensorflow:loss = 6.3255486, step = 4100 (0.669 sec)\n",
            "INFO:tensorflow:global_step/sec: 150.067\n",
            "INFO:tensorflow:loss = 0.3763351, step = 4200 (0.667 sec)\n",
            "INFO:tensorflow:global_step/sec: 150.95\n",
            "INFO:tensorflow:loss = 0.5236606, step = 4300 (0.656 sec)\n",
            "INFO:tensorflow:global_step/sec: 145.66\n",
            "INFO:tensorflow:loss = 0.4786135, step = 4400 (0.689 sec)\n",
            "INFO:tensorflow:global_step/sec: 146.179\n",
            "INFO:tensorflow:loss = 0.41880417, step = 4500 (0.682 sec)\n",
            "INFO:tensorflow:global_step/sec: 149.947\n",
            "INFO:tensorflow:loss = 0.60102946, step = 4600 (0.673 sec)\n",
            "INFO:tensorflow:global_step/sec: 150.889\n",
            "INFO:tensorflow:loss = 0.36565876, step = 4700 (0.657 sec)\n",
            "INFO:tensorflow:global_step/sec: 152.63\n",
            "INFO:tensorflow:loss = 0.35193932, step = 4800 (0.655 sec)\n",
            "INFO:tensorflow:global_step/sec: 151.162\n",
            "INFO:tensorflow:loss = 0.30469924, step = 4900 (0.669 sec)\n",
            "INFO:tensorflow:global_step/sec: 144.508\n",
            "INFO:tensorflow:loss = 0.4383064, step = 5000 (0.685 sec)\n",
            "INFO:tensorflow:global_step/sec: 153.287\n",
            "INFO:tensorflow:loss = 1.6800846, step = 5100 (0.652 sec)\n",
            "INFO:tensorflow:global_step/sec: 153.768\n",
            "INFO:tensorflow:loss = 0.37781686, step = 5200 (0.653 sec)\n",
            "INFO:tensorflow:global_step/sec: 149.592\n",
            "INFO:tensorflow:loss = 0.2881785, step = 5300 (0.667 sec)\n",
            "INFO:tensorflow:global_step/sec: 152.4\n",
            "INFO:tensorflow:loss = 3.4281955, step = 5400 (0.655 sec)\n",
            "INFO:tensorflow:global_step/sec: 153.945\n",
            "INFO:tensorflow:loss = 1.2747563, step = 5500 (0.649 sec)\n",
            "INFO:tensorflow:global_step/sec: 152.221\n",
            "INFO:tensorflow:loss = 0.7155426, step = 5600 (0.663 sec)\n",
            "INFO:tensorflow:global_step/sec: 150.176\n",
            "INFO:tensorflow:loss = 0.39072102, step = 5700 (0.662 sec)\n",
            "INFO:tensorflow:global_step/sec: 151.966\n",
            "INFO:tensorflow:loss = 0.36795682, step = 5800 (0.657 sec)\n",
            "INFO:tensorflow:global_step/sec: 153.668\n",
            "INFO:tensorflow:loss = 0.27767625, step = 5900 (0.652 sec)\n",
            "INFO:tensorflow:global_step/sec: 149.41\n",
            "INFO:tensorflow:loss = 0.4673735, step = 6000 (0.670 sec)\n",
            "INFO:tensorflow:global_step/sec: 151.89\n",
            "INFO:tensorflow:loss = 0.29468232, step = 6100 (0.655 sec)\n",
            "INFO:tensorflow:global_step/sec: 154.998\n",
            "INFO:tensorflow:loss = 1.604745, step = 6200 (0.646 sec)\n",
            "INFO:tensorflow:global_step/sec: 152.618\n",
            "INFO:tensorflow:loss = 0.38285118, step = 6300 (0.654 sec)\n",
            "INFO:tensorflow:global_step/sec: 148.413\n",
            "INFO:tensorflow:loss = 0.29665112, step = 6400 (0.679 sec)\n",
            "INFO:tensorflow:global_step/sec: 150.839\n",
            "INFO:tensorflow:loss = 1.037831, step = 6500 (0.658 sec)\n",
            "INFO:tensorflow:global_step/sec: 147.281\n",
            "INFO:tensorflow:loss = 0.5926062, step = 6600 (0.679 sec)\n",
            "INFO:tensorflow:global_step/sec: 150.875\n",
            "INFO:tensorflow:loss = 0.5925884, step = 6700 (0.671 sec)\n",
            "INFO:tensorflow:global_step/sec: 154.576\n",
            "INFO:tensorflow:loss = 0.29917496, step = 6800 (0.645 sec)\n",
            "INFO:tensorflow:global_step/sec: 153.216\n",
            "INFO:tensorflow:loss = 0.54028755, step = 6900 (0.648 sec)\n",
            "INFO:tensorflow:global_step/sec: 152.274\n",
            "INFO:tensorflow:loss = 0.57294935, step = 7000 (0.657 sec)\n",
            "INFO:tensorflow:global_step/sec: 149.499\n",
            "INFO:tensorflow:loss = 0.4188459, step = 7100 (0.670 sec)\n",
            "INFO:tensorflow:global_step/sec: 152.58\n",
            "INFO:tensorflow:loss = 0.40298042, step = 7200 (0.655 sec)\n",
            "INFO:tensorflow:global_step/sec: 151.065\n",
            "INFO:tensorflow:loss = 1.4131498, step = 7300 (0.662 sec)\n",
            "INFO:tensorflow:global_step/sec: 152.759\n",
            "INFO:tensorflow:loss = 0.30131814, step = 7400 (0.658 sec)\n",
            "INFO:tensorflow:global_step/sec: 153.753\n",
            "INFO:tensorflow:loss = 0.24422541, step = 7500 (0.645 sec)\n",
            "INFO:tensorflow:global_step/sec: 150.823\n",
            "INFO:tensorflow:loss = 0.428536, step = 7600 (0.666 sec)\n",
            "INFO:tensorflow:global_step/sec: 149.245\n",
            "INFO:tensorflow:loss = 1.1097481, step = 7700 (0.672 sec)\n",
            "INFO:tensorflow:global_step/sec: 152.205\n",
            "INFO:tensorflow:loss = 0.53446996, step = 7800 (0.657 sec)\n",
            "INFO:tensorflow:global_step/sec: 153.219\n",
            "INFO:tensorflow:loss = 1.5595288, step = 7900 (0.647 sec)\n",
            "INFO:tensorflow:global_step/sec: 149.133\n",
            "INFO:tensorflow:loss = 0.306995, step = 8000 (0.671 sec)\n",
            "INFO:tensorflow:global_step/sec: 152.419\n",
            "INFO:tensorflow:loss = 0.7223313, step = 8100 (0.658 sec)\n",
            "INFO:tensorflow:global_step/sec: 143.205\n",
            "INFO:tensorflow:loss = 1.943057, step = 8200 (0.696 sec)\n",
            "INFO:tensorflow:global_step/sec: 153.515\n",
            "INFO:tensorflow:loss = 1.2213157, step = 8300 (0.657 sec)\n",
            "INFO:tensorflow:global_step/sec: 151.794\n",
            "INFO:tensorflow:loss = 0.375056, step = 8400 (0.657 sec)\n",
            "INFO:tensorflow:global_step/sec: 149.253\n",
            "INFO:tensorflow:loss = 0.7224199, step = 8500 (0.669 sec)\n",
            "INFO:tensorflow:global_step/sec: 147.922\n",
            "INFO:tensorflow:loss = 1.2151178, step = 8600 (0.676 sec)\n",
            "INFO:tensorflow:global_step/sec: 151.015\n",
            "INFO:tensorflow:loss = 0.80580705, step = 8700 (0.661 sec)\n",
            "INFO:tensorflow:global_step/sec: 150.22\n",
            "INFO:tensorflow:loss = 0.38924026, step = 8800 (0.664 sec)\n",
            "INFO:tensorflow:global_step/sec: 148.974\n",
            "INFO:tensorflow:loss = 0.28440106, step = 8900 (0.673 sec)\n",
            "INFO:tensorflow:global_step/sec: 153.563\n",
            "INFO:tensorflow:loss = 0.37336558, step = 9000 (0.653 sec)\n",
            "INFO:tensorflow:global_step/sec: 151.635\n",
            "INFO:tensorflow:loss = 0.47311488, step = 9100 (0.656 sec)\n",
            "INFO:tensorflow:global_step/sec: 150.774\n",
            "INFO:tensorflow:loss = 0.30911818, step = 9200 (0.663 sec)\n",
            "INFO:tensorflow:global_step/sec: 146.344\n",
            "INFO:tensorflow:loss = 0.62423956, step = 9300 (0.686 sec)\n",
            "INFO:tensorflow:global_step/sec: 153.854\n",
            "INFO:tensorflow:loss = 0.36005712, step = 9400 (0.647 sec)\n",
            "INFO:tensorflow:global_step/sec: 148.998\n",
            "INFO:tensorflow:loss = 0.6424711, step = 9500 (0.671 sec)\n",
            "INFO:tensorflow:global_step/sec: 148.551\n",
            "INFO:tensorflow:loss = 0.20950052, step = 9600 (0.673 sec)\n",
            "INFO:tensorflow:global_step/sec: 147.456\n",
            "INFO:tensorflow:loss = 0.57876486, step = 9700 (0.678 sec)\n",
            "INFO:tensorflow:global_step/sec: 150.865\n",
            "INFO:tensorflow:loss = 0.31299797, step = 9800 (0.663 sec)\n",
            "INFO:tensorflow:global_step/sec: 152.122\n",
            "INFO:tensorflow:loss = 0.3025306, step = 9900 (0.660 sec)\n",
            "INFO:tensorflow:Saving checkpoints for 10000 into /tmp/tmppz311p2p/model.ckpt.\n",
            "INFO:tensorflow:Loss for final step: 0.35152733.\n"
          ],
          "name": "stdout"
        },
        {
          "output_type": "execute_result",
          "data": {
            "text/plain": [
              "<tensorflow_estimator.python.estimator.canned.linear.LinearClassifierV2 at 0x7f3b79a4f828>"
            ]
          },
          "metadata": {
            "tags": []
          },
          "execution_count": 88
        }
      ]
    },
    {
      "cell_type": "code",
      "metadata": {
        "id": "ptqIYf_x4ySV",
        "colab_type": "code",
        "colab": {
          "base_uri": "https://localhost:8080/",
          "height": 122
        },
        "outputId": "4826f863-5361-45cb-90b2-8acef4aabf5a"
      },
      "source": [
        "pred_fn = tf.compat.v1.estimator.inputs.pandas_input_fn(\n",
        "    x=X_test, batch_size=len(X_test), shuffle=False)\n",
        "pred_gen = model.predict(input_fn=pred_fn)\n",
        "predictions = list(pred_gen)"
      ],
      "execution_count": 105,
      "outputs": [
        {
          "output_type": "stream",
          "text": [
            "INFO:tensorflow:Calling model_fn.\n",
            "INFO:tensorflow:Done calling model_fn.\n",
            "INFO:tensorflow:Graph was finalized.\n",
            "INFO:tensorflow:Restoring parameters from /tmp/tmppz311p2p/model.ckpt-10000\n",
            "INFO:tensorflow:Running local_init_op.\n",
            "INFO:tensorflow:Done running local_init_op.\n"
          ],
          "name": "stdout"
        }
      ]
    },
    {
      "cell_type": "code",
      "metadata": {
        "id": "mujj1wwp4xY7",
        "colab_type": "code",
        "colab": {
          "base_uri": "https://localhost:8080/",
          "height": 175
        },
        "outputId": "1c309c54-9ee3-4168-9191-a7d907533db3"
      },
      "source": [
        "from sklearn.metrics import classification_report\n",
        "final_preds = [pred['class_ids'][0] for pred in predictions]\n",
        "print(classification_report(y_test, final_preds))"
      ],
      "execution_count": 107,
      "outputs": [
        {
          "output_type": "stream",
          "text": [
            "              precision    recall  f1-score   support\n",
            "\n",
            "           0       0.88      0.92      0.90      7436\n",
            "           1       0.70      0.62      0.66      2333\n",
            "\n",
            "    accuracy                           0.85      9769\n",
            "   macro avg       0.79      0.77      0.78      9769\n",
            "weighted avg       0.84      0.85      0.84      9769\n",
            "\n"
          ],
          "name": "stdout"
        }
      ]
    },
    {
      "cell_type": "code",
      "metadata": {
        "id": "mdmgniNE6FOT",
        "colab_type": "code",
        "colab": {}
      },
      "source": [
        ""
      ],
      "execution_count": 0,
      "outputs": []
    },
    {
      "cell_type": "code",
      "metadata": {
        "id": "hoWtjGIi51ay",
        "colab_type": "code",
        "colab": {}
      },
      "source": [
        ""
      ],
      "execution_count": 0,
      "outputs": []
    }
  ]
}