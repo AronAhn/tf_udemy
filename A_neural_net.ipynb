{
  "nbformat": 4,
  "nbformat_minor": 0,
  "metadata": {
    "colab": {
      "name": "A neural net.ipynb",
      "provenance": [],
      "include_colab_link": true
    },
    "kernelspec": {
      "name": "python3",
      "display_name": "Python 3"
    }
  },
  "cells": [
    {
      "cell_type": "markdown",
      "metadata": {
        "id": "view-in-github",
        "colab_type": "text"
      },
      "source": [
        "<a href=\"https://colab.research.google.com/github/AronAhn/tf_udemy/blob/master/A_neural_net.ipynb\" target=\"_parent\"><img src=\"https://colab.research.google.com/assets/colab-badge.svg\" alt=\"Open In Colab\"/></a>"
      ]
    },
    {
      "cell_type": "code",
      "metadata": {
        "id": "gMx3gvjt_FTy",
        "colab_type": "code",
        "colab": {
          "base_uri": "https://localhost:8080/",
          "height": 527
        },
        "outputId": "8326f111-7e77-47a1-ba10-15963355c37f"
      },
      "source": [
        "from __future__ import absolute_import, division, print_function, unicode_literals\n",
        "!pip install tensorflow-gpu==2.0.0-rc1\n",
        "import tensorflow as tf\n",
        "tf.compat.v1.disable_eager_execution()"
      ],
      "execution_count": 1,
      "outputs": [
        {
          "output_type": "stream",
          "text": [
            "Collecting tensorflow-gpu==2.0.0-rc1\n",
            "\u001b[?25l  Downloading https://files.pythonhosted.org/packages/73/cf/2fc69ba3e59edc8333e2676fa71b40197718dea7dc1282c79955cf6b2acb/tensorflow_gpu-2.0.0rc1-cp36-cp36m-manylinux2010_x86_64.whl (380.5MB)\n",
            "\u001b[K     |████████████████████████████████| 380.5MB 42kB/s \n",
            "\u001b[?25hRequirement already satisfied: numpy<2.0,>=1.16.0 in /usr/local/lib/python3.6/dist-packages (from tensorflow-gpu==2.0.0-rc1) (1.17.3)\n",
            "Requirement already satisfied: gast>=0.2.0 in /usr/local/lib/python3.6/dist-packages (from tensorflow-gpu==2.0.0-rc1) (0.2.2)\n",
            "Requirement already satisfied: wheel>=0.26 in /usr/local/lib/python3.6/dist-packages (from tensorflow-gpu==2.0.0-rc1) (0.33.6)\n",
            "Requirement already satisfied: absl-py>=0.7.0 in /usr/local/lib/python3.6/dist-packages (from tensorflow-gpu==2.0.0-rc1) (0.8.1)\n",
            "Collecting tb-nightly<1.15.0a20190807,>=1.15.0a20190806\n",
            "\u001b[?25l  Downloading https://files.pythonhosted.org/packages/bc/88/24b5fb7280e74c7cf65bde47c171547fd02afb3840cff41bcbe9270650f5/tb_nightly-1.15.0a20190806-py3-none-any.whl (4.3MB)\n",
            "\u001b[K     |████████████████████████████████| 4.3MB 29.9MB/s \n",
            "\u001b[?25hRequirement already satisfied: termcolor>=1.1.0 in /usr/local/lib/python3.6/dist-packages (from tensorflow-gpu==2.0.0-rc1) (1.1.0)\n",
            "Requirement already satisfied: grpcio>=1.8.6 in /usr/local/lib/python3.6/dist-packages (from tensorflow-gpu==2.0.0-rc1) (1.15.0)\n",
            "Requirement already satisfied: opt-einsum>=2.3.2 in /usr/local/lib/python3.6/dist-packages (from tensorflow-gpu==2.0.0-rc1) (3.1.0)\n",
            "Requirement already satisfied: keras-applications>=1.0.8 in /usr/local/lib/python3.6/dist-packages (from tensorflow-gpu==2.0.0-rc1) (1.0.8)\n",
            "Requirement already satisfied: wrapt>=1.11.1 in /usr/local/lib/python3.6/dist-packages (from tensorflow-gpu==2.0.0-rc1) (1.11.2)\n",
            "Requirement already satisfied: six>=1.10.0 in /usr/local/lib/python3.6/dist-packages (from tensorflow-gpu==2.0.0-rc1) (1.12.0)\n",
            "Requirement already satisfied: keras-preprocessing>=1.0.5 in /usr/local/lib/python3.6/dist-packages (from tensorflow-gpu==2.0.0-rc1) (1.1.0)\n",
            "Requirement already satisfied: astor>=0.6.0 in /usr/local/lib/python3.6/dist-packages (from tensorflow-gpu==2.0.0-rc1) (0.8.0)\n",
            "Requirement already satisfied: protobuf>=3.6.1 in /usr/local/lib/python3.6/dist-packages (from tensorflow-gpu==2.0.0-rc1) (3.10.0)\n",
            "Requirement already satisfied: google-pasta>=0.1.6 in /usr/local/lib/python3.6/dist-packages (from tensorflow-gpu==2.0.0-rc1) (0.1.7)\n",
            "Collecting tf-estimator-nightly<1.14.0.dev2019080602,>=1.14.0.dev2019080601\n",
            "\u001b[?25l  Downloading https://files.pythonhosted.org/packages/21/28/f2a27a62943d5f041e4a6fd404b2d21cb7c59b2242a4e73b03d9ba166552/tf_estimator_nightly-1.14.0.dev2019080601-py2.py3-none-any.whl (501kB)\n",
            "\u001b[K     |████████████████████████████████| 501kB 10.1MB/s \n",
            "\u001b[?25hRequirement already satisfied: setuptools>=41.0.0 in /usr/local/lib/python3.6/dist-packages (from tb-nightly<1.15.0a20190807,>=1.15.0a20190806->tensorflow-gpu==2.0.0-rc1) (41.4.0)\n",
            "Requirement already satisfied: markdown>=2.6.8 in /usr/local/lib/python3.6/dist-packages (from tb-nightly<1.15.0a20190807,>=1.15.0a20190806->tensorflow-gpu==2.0.0-rc1) (3.1.1)\n",
            "Requirement already satisfied: werkzeug>=0.11.15 in /usr/local/lib/python3.6/dist-packages (from tb-nightly<1.15.0a20190807,>=1.15.0a20190806->tensorflow-gpu==2.0.0-rc1) (0.16.0)\n",
            "Requirement already satisfied: h5py in /usr/local/lib/python3.6/dist-packages (from keras-applications>=1.0.8->tensorflow-gpu==2.0.0-rc1) (2.8.0)\n",
            "Installing collected packages: tb-nightly, tf-estimator-nightly, tensorflow-gpu\n",
            "Successfully installed tb-nightly-1.15.0a20190806 tensorflow-gpu-2.0.0rc1 tf-estimator-nightly-1.14.0.dev2019080601\n"
          ],
          "name": "stdout"
        }
      ]
    },
    {
      "cell_type": "code",
      "metadata": {
        "id": "eTMMOPg3MD1U",
        "colab_type": "code",
        "colab": {}
      },
      "source": [
        "import numpy as np"
      ],
      "execution_count": 0,
      "outputs": []
    },
    {
      "cell_type": "markdown",
      "metadata": {
        "id": "heIa2nxobS23",
        "colab_type": "text"
      },
      "source": [
        "### Graphs"
      ]
    },
    {
      "cell_type": "code",
      "metadata": {
        "id": "KdpRJD8XUTpD",
        "colab_type": "code",
        "colab": {}
      },
      "source": [
        "np.random.seed(101)\n",
        "tf.compat.v1.set_random_seed(101)"
      ],
      "execution_count": 0,
      "outputs": []
    },
    {
      "cell_type": "code",
      "metadata": {
        "id": "CxI0XLxFUgV8",
        "colab_type": "code",
        "colab": {}
      },
      "source": [
        "rand_a = np.random.uniform(0, 100, (5,5))\n",
        "rand_b = np.random.uniform(0, 100, (5,1))"
      ],
      "execution_count": 0,
      "outputs": []
    },
    {
      "cell_type": "code",
      "metadata": {
        "id": "r5GjA1s0VAlv",
        "colab_type": "code",
        "colab": {}
      },
      "source": [
        "a = tf.compat.v1.placeholder(tf.float32)\n",
        "b = tf.compat.v1.placeholder(tf.float32)\n",
        "add_op = a + b\n",
        "mul_op = a * b"
      ],
      "execution_count": 0,
      "outputs": []
    },
    {
      "cell_type": "code",
      "metadata": {
        "id": "bzr0bdz5Vh_c",
        "colab_type": "code",
        "colab": {
          "base_uri": "https://localhost:8080/",
          "height": 34
        },
        "outputId": "cc4d9b10-ed8a-416b-9db9-6ff7dbddf794"
      },
      "source": [
        "with tf.compat.v1.Session() as sess:\n",
        "  add_result = sess.run(add_op, feed_dict={a:10, b:20})\n",
        "  print(add_result)"
      ],
      "execution_count": 6,
      "outputs": [
        {
          "output_type": "stream",
          "text": [
            "30.0\n"
          ],
          "name": "stdout"
        }
      ]
    },
    {
      "cell_type": "code",
      "metadata": {
        "id": "6e2Y1omka-T6",
        "colab_type": "code",
        "colab": {
          "base_uri": "https://localhost:8080/",
          "height": 193
        },
        "outputId": "b7d044aa-0bc4-45c3-9acc-1e7df4f81fb4"
      },
      "source": [
        "with tf.compat.v1.Session() as sess:\n",
        "  add_result = sess.run(add_op, feed_dict={a:rand_a, b:rand_b})\n",
        "  print(add_result)\n",
        "  \n",
        "  mult_result = sess.run(mul_op, feed_dict={a:rand_a, b:rand_b})\n",
        "  print(mult_result)"
      ],
      "execution_count": 7,
      "outputs": [
        {
          "output_type": "stream",
          "text": [
            "[[151.07166  156.49855  102.27921  116.58396  167.95949 ]\n",
            " [135.45622   82.76316  141.42784  124.22093   71.06043 ]\n",
            " [113.30171   93.09215   76.06819  136.43912  154.42728 ]\n",
            " [ 96.71727   81.83804  133.83675  146.38118  101.10579 ]\n",
            " [122.72681  105.982925  59.044632  67.9831    72.89292 ]]\n",
            "[[5134.644   5674.25     283.12433 1705.4707  6813.8315 ]\n",
            " [4341.8125  1598.267   4652.734   3756.8293   988.94635]\n",
            " [3207.8113  2038.1029  1052.7742  4546.9805  5588.1157 ]\n",
            " [1707.379    614.02527 4434.989   5356.7773  2029.8555 ]\n",
            " [3714.0984  2806.6438   262.76764  747.19855 1013.292  ]]\n"
          ],
          "name": "stdout"
        }
      ]
    },
    {
      "cell_type": "markdown",
      "metadata": {
        "id": "oN9WkSQibO87",
        "colab_type": "text"
      },
      "source": [
        "### Neural Network"
      ]
    },
    {
      "cell_type": "code",
      "metadata": {
        "id": "lu6aPOqpbYv7",
        "colab_type": "code",
        "colab": {}
      },
      "source": [
        "n_features = 10\n",
        "n_dense_neurons = 3"
      ],
      "execution_count": 0,
      "outputs": []
    },
    {
      "cell_type": "code",
      "metadata": {
        "id": "TjY_qq40cES3",
        "colab_type": "code",
        "colab": {
          "base_uri": "https://localhost:8080/",
          "height": 90
        },
        "outputId": "25491348-232a-4e31-85a3-603571ea84f5"
      },
      "source": [
        "x = tf.compat.v1.placeholder(tf.float32, (None, n_features))\n",
        "W = tf.compat.v1.Variable(tf.random.normal([n_features, n_dense_neurons]))\n",
        "b = tf.compat.v1.Variable(tf.ones([n_dense_neurons]))"
      ],
      "execution_count": 9,
      "outputs": [
        {
          "output_type": "stream",
          "text": [
            "WARNING:tensorflow:From /usr/local/lib/python3.6/dist-packages/tensorflow_core/python/ops/resource_variable_ops.py:1630: calling BaseResourceVariable.__init__ (from tensorflow.python.ops.resource_variable_ops) with constraint is deprecated and will be removed in a future version.\n",
            "Instructions for updating:\n",
            "If using Keras pass *_constraint arguments to layers.\n"
          ],
          "name": "stdout"
        }
      ]
    },
    {
      "cell_type": "code",
      "metadata": {
        "id": "W8qBJFk7cI_6",
        "colab_type": "code",
        "colab": {}
      },
      "source": [
        "xW = tf.matmul(x, W)\n",
        "z = tf.add(xW, b)\n",
        "a = tf.sigmoid(z)"
      ],
      "execution_count": 0,
      "outputs": []
    },
    {
      "cell_type": "code",
      "metadata": {
        "id": "aFeMtNYhc79S",
        "colab_type": "code",
        "colab": {}
      },
      "source": [
        "init = tf.compat.v1.global_variables_initializer()"
      ],
      "execution_count": 0,
      "outputs": []
    },
    {
      "cell_type": "code",
      "metadata": {
        "id": "Y2CTQLPfclMq",
        "colab_type": "code",
        "colab": {}
      },
      "source": [
        "with tf.compat.v1.Session() as sess:\n",
        "  sess.run(init)\n",
        "  layer_out = sess.run(a, feed_dict={x:np.random.random([1, n_features])})"
      ],
      "execution_count": 0,
      "outputs": []
    },
    {
      "cell_type": "code",
      "metadata": {
        "id": "lUkZW95LdI3G",
        "colab_type": "code",
        "colab": {
          "base_uri": "https://localhost:8080/",
          "height": 34
        },
        "outputId": "b66ecf77-a75b-4758-fcf8-2e4efc75b9a4"
      },
      "source": [
        "print(layer_out)"
      ],
      "execution_count": 13,
      "outputs": [
        {
          "output_type": "stream",
          "text": [
            "[[0.19592889 0.8423014  0.36188066]]\n"
          ],
          "name": "stdout"
        }
      ]
    },
    {
      "cell_type": "markdown",
      "metadata": {
        "id": "S6rCooSygCiO",
        "colab_type": "text"
      },
      "source": [
        "### Simple regression example"
      ]
    },
    {
      "cell_type": "code",
      "metadata": {
        "id": "Ovqn2IjogEnJ",
        "colab_type": "code",
        "colab": {}
      },
      "source": [
        "x_data = np.linspace(0, 10, 10) + np.random.uniform(-1.5, 1.5, 10)\n",
        "y_label = np.linspace(0, 10, 10) + np.random.uniform(-1.5, 1.5, 10)"
      ],
      "execution_count": 0,
      "outputs": []
    },
    {
      "cell_type": "code",
      "metadata": {
        "id": "0gmAtDE7gMnU",
        "colab_type": "code",
        "colab": {
          "base_uri": "https://localhost:8080/",
          "height": 282
        },
        "outputId": "bf6173d7-662b-4608-f261-516582add830"
      },
      "source": [
        "import matplotlib.pyplot as plt\n",
        "plt.plot(x_data, y_label)"
      ],
      "execution_count": 15,
      "outputs": [
        {
          "output_type": "execute_result",
          "data": {
            "text/plain": [
              "[<matplotlib.lines.Line2D at 0x7ff8c875dba8>]"
            ]
          },
          "metadata": {
            "tags": []
          },
          "execution_count": 15
        },
        {
          "output_type": "display_data",
          "data": {
            "image/png": "[encoded data removed]",
            "text/plain": [
              "<Figure size 432x288 with 1 Axes>"
            ]
          },
          "metadata": {
            "tags": []
          }
        }
      ]
    },
    {
      "cell_type": "code",
      "metadata": {
        "id": "bck3AzeggTIO",
        "colab_type": "code",
        "colab": {}
      },
      "source": [
        "m = tf.compat.v1.Variable(0.44)\n",
        "b = tf.compat.v1.Variable(0.87)"
      ],
      "execution_count": 0,
      "outputs": []
    },
    {
      "cell_type": "code",
      "metadata": {
        "id": "xM3a4n5Yg3Fq",
        "colab_type": "code",
        "colab": {}
      },
      "source": [
        "error = 0\n",
        "for x, y in zip(x_data, y_label):\n",
        "  y_hat = m*x + b\n",
        "  error += (y-y_hat)**2"
      ],
      "execution_count": 0,
      "outputs": []
    },
    {
      "cell_type": "code",
      "metadata": {
        "id": "DT-y98yQhI5N",
        "colab_type": "code",
        "colab": {
          "base_uri": "https://localhost:8080/",
          "height": 90
        },
        "outputId": "ec4af64e-7156-4568-e1a7-8d27b4440594"
      },
      "source": [
        "optimizer = tf.compat.v1.train.GradientDescentOptimizer(learning_rate=0.001)\n",
        "train = optimizer.minimize(error)\n",
        "init = tf.compat.v1.global_variables_initializer()"
      ],
      "execution_count": 18,
      "outputs": [
        {
          "output_type": "stream",
          "text": [
            "WARNING:tensorflow:From /usr/local/lib/python3.6/dist-packages/tensorflow_core/python/ops/math_grad.py:1375: where (from tensorflow.python.ops.array_ops) is deprecated and will be removed in a future version.\n",
            "Instructions for updating:\n",
            "Use tf.where in 2.0, which has the same broadcast rule as np.where\n"
          ],
          "name": "stdout"
        }
      ]
    },
    {
      "cell_type": "code",
      "metadata": {
        "id": "QsBmr09JhjdH",
        "colab_type": "code",
        "colab": {}
      },
      "source": [
        "with tf.compat.v1.Session() as sess:\n",
        "  sess.run(init)\n",
        "  training_steps = 1\n",
        "  \n",
        "  for i in range(training_steps):\n",
        "    sess.run(train)\n",
        "\n",
        "  final_slope, final_intercept = sess.run([m, b])"
      ],
      "execution_count": 0,
      "outputs": []
    },
    {
      "cell_type": "code",
      "metadata": {
        "id": "evQiMLIOigJI",
        "colab_type": "code",
        "colab": {
          "base_uri": "https://localhost:8080/",
          "height": 282
        },
        "outputId": "d9ac110e-b4fe-496c-a08d-99a296e02d40"
      },
      "source": [
        "x_test = np.linspace(-1, 11, 10)\n",
        "y_pred_plot = final_slope*x_test + final_intercept\n",
        "plt.plot(x_test, y_pred_plot)"
      ],
      "execution_count": 20,
      "outputs": [
        {
          "output_type": "execute_result",
          "data": {
            "text/plain": [
              "[<matplotlib.lines.Line2D at 0x7ff8c7f5a2b0>]"
            ]
          },
          "metadata": {
            "tags": []
          },
          "execution_count": 20
        },
        {
          "output_type": "display_data",
          "data": {
            "image/png": "[encoded data removed]",
            "text/plain": [
              "<Figure size 432x288 with 1 Axes>"
            ]
          },
          "metadata": {
            "tags": []
          }
        }
      ]
    },
    {
      "cell_type": "markdown",
      "metadata": {
        "id": "4A5JmYR6aNRi",
        "colab_type": "text"
      },
      "source": [
        "### another regression example"
      ]
    },
    {
      "cell_type": "code",
      "metadata": {
        "id": "F3lrNNOHbWwn",
        "colab_type": "code",
        "colab": {}
      },
      "source": [
        "x_data = np.linspace(0.0, 10.0, 1000000)\n",
        "noise = np.random.randn(len(x_data))"
      ],
      "execution_count": 0,
      "outputs": []
    },
    {
      "cell_type": "markdown",
      "metadata": {
        "id": "OVWwFOc7cNO5",
        "colab_type": "text"
      },
      "source": [
        "y = mx + b\n",
        "b = 5\n"
      ]
    },
    {
      "cell_type": "code",
      "metadata": {
        "id": "QRdPQpxxcO5G",
        "colab_type": "code",
        "colab": {}
      },
      "source": [
        "import pandas as pd\n",
        "y_true = (0.5 * x_data) + 5 + noise\n",
        "x_df = pd.DataFrame(data=x_data, columns=['X data'])\n",
        "y_df = pd.DataFrame(data=y_true, columns=['y'])\n",
        "my_data = pd.concat([x_df, y_df], axis=1)"
      ],
      "execution_count": 0,
      "outputs": []
    },
    {
      "cell_type": "code",
      "metadata": {
        "id": "RBvJfNK0cY2p",
        "colab_type": "code",
        "colab": {
          "base_uri": "https://localhost:8080/",
          "height": 297
        },
        "outputId": "8ade6388-7351-484d-8daf-dddc60214569"
      },
      "source": [
        "my_data.sample(n=250).plot(kind='scatter', x='X data', y='y')"
      ],
      "execution_count": 23,
      "outputs": [
        {
          "output_type": "execute_result",
          "data": {
            "text/plain": [
              "<matplotlib.axes._subplots.AxesSubplot at 0x7ff8c7f1a5f8>"
            ]
          },
          "metadata": {
            "tags": []
          },
          "execution_count": 23
        },
        {
          "output_type": "display_data",
          "data": {
            "image/png": "[encoded data removed]",
            "text/plain": [
              "<Figure size 432x288 with 1 Axes>"
            ]
          },
          "metadata": {
            "tags": []
          }
        }
      ]
    },
    {
      "cell_type": "code",
      "metadata": {
        "id": "IezqzqQWiUBs",
        "colab_type": "code",
        "colab": {}
      },
      "source": [
        "batch_size = 8\n",
        "m = tf.Variable(0.81)\n",
        "b = tf.Variable(0.17)\n",
        "\n",
        "xph = tf.compat.v1.placeholder(tf.float32, [batch_size])\n",
        "yph = tf.compat.v1.placeholder(tf.float32, [batch_size])\n",
        "y_model = m*xph + b\n",
        "error = tf.reduce_sum(tf.square(yph-y_model))"
      ],
      "execution_count": 0,
      "outputs": []
    },
    {
      "cell_type": "code",
      "metadata": {
        "id": "fVeG8oRzsEnO",
        "colab_type": "code",
        "colab": {}
      },
      "source": [
        "optimizer = tf.compat.v1.train.GradientDescentOptimizer(learning_rate=0.001)\n",
        "train = optimizer.minimize(error)\n",
        "init = tf.compat.v1.global_variables_initializer()"
      ],
      "execution_count": 0,
      "outputs": []
    },
    {
      "cell_type": "code",
      "metadata": {
        "id": "DcnMYK06tYi4",
        "colab_type": "code",
        "colab": {}
      },
      "source": [
        "with tf.compat.v1.Session() as sess:\n",
        "  sess.run(init)\n",
        "  batches = 1000\n",
        "  for i in range(batches):\n",
        "    rand_ind = np.random.randint(len(x_data), size=batch_size)\n",
        "    feed = {xph:x_data[rand_ind], yph:y_true[rand_ind]}\n",
        "    sess.run(train, feed_dict=feed)\n",
        "  model_m, model_b = sess.run([m, b])"
      ],
      "execution_count": 0,
      "outputs": []
    },
    {
      "cell_type": "code",
      "metadata": {
        "id": "V3b1lZf4t4OS",
        "colab_type": "code",
        "colab": {
          "base_uri": "https://localhost:8080/",
          "height": 34
        },
        "outputId": "dafc509f-0d29-456b-9137-8c1175daa9b4"
      },
      "source": [
        "print(model_m, model_b)"
      ],
      "execution_count": 27,
      "outputs": [
        {
          "output_type": "stream",
          "text": [
            "0.46632025 4.956627\n"
          ],
          "name": "stdout"
        }
      ]
    },
    {
      "cell_type": "code",
      "metadata": {
        "id": "-4D2-I5Et2c4",
        "colab_type": "code",
        "colab": {}
      },
      "source": [
        "y_hat = x_data*model_m + model_b"
      ],
      "execution_count": 0,
      "outputs": []
    },
    {
      "cell_type": "code",
      "metadata": {
        "id": "uiEFHYbmwSn5",
        "colab_type": "code",
        "colab": {
          "base_uri": "https://localhost:8080/",
          "height": 297
        },
        "outputId": "6d745f33-01b3-45d5-afdf-e6ba61061106"
      },
      "source": [
        "my_data.sample(250).plot(kind='scatter', x='X data', y=\"y\")\n",
        "plt.plot(x_data, y_hat, 'r')"
      ],
      "execution_count": 29,
      "outputs": [
        {
          "output_type": "execute_result",
          "data": {
            "text/plain": [
              "[<matplotlib.lines.Line2D at 0x7ff8c5e29748>]"
            ]
          },
          "metadata": {
            "tags": []
          },
          "execution_count": 29
        },
        {
          "output_type": "display_data",
          "data": {
            "image/png": "[encoded data removed]",
            "text/plain": [
              "<Figure size 432x288 with 1 Axes>"
            ]
          },
          "metadata": {
            "tags": []
          }
        }
      ]
    },
    {
      "cell_type": "markdown",
      "metadata": {
        "id": "cgIDzB1z00DV",
        "colab_type": "text"
      },
      "source": [
        "TF test"
      ]
    },
    {
      "cell_type": "code",
      "metadata": {
        "id": "CEIKEpXI03CI",
        "colab_type": "code",
        "colab": {}
      },
      "source": [
        "feat_cols = [ tf.feature_column.numeric_column('x', shape=[1]) ]"
      ],
      "execution_count": 0,
      "outputs": []
    },
    {
      "cell_type": "code",
      "metadata": {
        "id": "53YAslxC1DL8",
        "colab_type": "code",
        "colab": {
          "base_uri": "https://localhost:8080/",
          "height": 195
        },
        "outputId": "e106537a-e4b2-4020-caf6-2fb1540e3ddf"
      },
      "source": [
        "estimator = tf.estimator.LinearRegressor(feature_columns = feat_cols)"
      ],
      "execution_count": 31,
      "outputs": [
        {
          "output_type": "stream",
          "text": [
            "INFO:tensorflow:Using default config.\n",
            "WARNING:tensorflow:Using temporary folder as model directory: /tmp/tmpeqmkz68n\n",
            "INFO:tensorflow:Using config: {'_model_dir': '/tmp/tmpeqmkz68n', '_tf_random_seed': None, '_save_summary_steps': 100, '_save_checkpoints_steps': None, '_save_checkpoints_secs': 600, '_session_config': allow_soft_placement: true\n",
            "graph_options {\n",
            "  rewrite_options {\n",
            "    meta_optimizer_iterations: ONE\n",
            "  }\n",
            "}\n",
            ", '_keep_checkpoint_max': 5, '_keep_checkpoint_every_n_hours': 10000, '_log_step_count_steps': 100, '_train_distribute': None, '_device_fn': None, '_protocol': None, '_eval_distribute': None, '_experimental_distribute': None, '_experimental_max_worker_delay_secs': None, '_service': None, '_cluster_spec': <tensorflow.python.training.server_lib.ClusterSpec object at 0x7ff8c5d8e160>, '_task_type': 'worker', '_task_id': 0, '_global_id_in_cluster': 0, '_master': '', '_evaluation_master': '', '_is_chief': True, '_num_ps_replicas': 0, '_num_worker_replicas': 1}\n"
          ],
          "name": "stdout"
        }
      ]
    },
    {
      "cell_type": "code",
      "metadata": {
        "id": "QNioaEnT1N72",
        "colab_type": "code",
        "colab": {}
      },
      "source": [
        "from sklearn.model_selection import train_test_split\n",
        "x_train, x_eval, y_train, y_eval = train_test_split(x_data, y_true, test_size=0.3, \n",
        "                                                    random_state=101)"
      ],
      "execution_count": 0,
      "outputs": []
    },
    {
      "cell_type": "code",
      "metadata": {
        "id": "usMw2gD51vu9",
        "colab_type": "code",
        "colab": {}
      },
      "source": [
        "input_func = tf.compat.v1.estimator.inputs.numpy_input_fn(\n",
        "    {'x':x_train}, y_train, batch_size, num_epochs=None, shuffle=True)\n",
        "train_input_func = tf.compat.v1.estimator.inputs.numpy_input_fn(\n",
        "    {'x':x_train}, y_train, batch_size, num_epochs=1000, shuffle=False)\n",
        "eval_input_func = tf.compat.v1.estimator.inputs.numpy_input_fn(\n",
        "    {'x':x_eval}, y_eval, batch_size, num_epochs=1000, shuffle=False)\n"
      ],
      "execution_count": 0,
      "outputs": []
    },
    {
      "cell_type": "code",
      "metadata": {
        "id": "89DgaDUd4XK8",
        "colab_type": "code",
        "colab": {
          "base_uri": "https://localhost:8080/",
          "height": 1000
        },
        "outputId": "47c83baa-0486-4362-daa9-9eca61f8d376"
      },
      "source": [
        "estimator.train(input_func, steps=1000)"
      ],
      "execution_count": 34,
      "outputs": [
        {
          "output_type": "stream",
          "text": [
            "WARNING:tensorflow:From /usr/local/lib/python3.6/dist-packages/tensorflow_core/python/training/training_util.py:236: Variable.initialized_value (from tensorflow.python.ops.variables) is deprecated and will be removed in a future version.\n",
            "Instructions for updating:\n",
            "Use Variable.read_value. Variables in 2.X are initialized automatically both in eager and graph (inside tf.defun) contexts.\n",
            "WARNING:tensorflow:From /usr/local/lib/python3.6/dist-packages/tensorflow_estimator/python/estimator/inputs/queues/feeding_queue_runner.py:62: QueueRunner.__init__ (from tensorflow.python.training.queue_runner_impl) is deprecated and will be removed in a future version.\n",
            "Instructions for updating:\n",
            "To construct input pipelines, use the `tf.data` module.\n",
            "WARNING:tensorflow:From /usr/local/lib/python3.6/dist-packages/tensorflow_estimator/python/estimator/inputs/queues/feeding_functions.py:500: add_queue_runner (from tensorflow.python.training.queue_runner_impl) is deprecated and will be removed in a future version.\n",
            "Instructions for updating:\n",
            "To construct input pipelines, use the `tf.data` module.\n",
            "INFO:tensorflow:Calling model_fn.\n",
            "WARNING:tensorflow:Layer linear/linear_model is casting an input tensor from dtype float64 to the layer's dtype of float32, which is new behavior in TensorFlow 2.  The layer has dtype float32 because it's dtype defaults to floatx.\n",
            "\n",
            "If you intended to run this layer in float32, you can safely ignore this warning. If in doubt, this warning is likely only an issue if you are porting a TensorFlow 1.X model to TensorFlow 2.\n",
            "\n",
            "To change all layers to have dtype float64 by default, call `tf.keras.backend.set_floatx('float64')`. To change just this layer, pass dtype='float64' to the layer constructor. If you are the author of this layer, you can disable autocasting by passing autocast=False to the base Layer constructor.\n",
            "\n",
            "WARNING:tensorflow:From /usr/local/lib/python3.6/dist-packages/tensorflow_core/python/feature_column/feature_column_v2.py:308: Layer.add_variable (from tensorflow.python.keras.engine.base_layer) is deprecated and will be removed in a future version.\n",
            "Instructions for updating:\n",
            "Please use `layer.add_weight` method instead.\n",
            "WARNING:tensorflow:From /usr/local/lib/python3.6/dist-packages/tensorflow_estimator/python/estimator/canned/linear.py:308: to_float (from tensorflow.python.ops.math_ops) is deprecated and will be removed in a future version.\n",
            "Instructions for updating:\n",
            "Use `tf.cast` instead.\n",
            "WARNING:tensorflow:From /usr/local/lib/python3.6/dist-packages/tensorflow_core/python/keras/optimizer_v2/ftrl.py:143: calling Constant.__init__ (from tensorflow.python.ops.init_ops) with dtype is deprecated and will be removed in a future version.\n",
            "Instructions for updating:\n",
            "Call initializer instance with the dtype argument instead of passing it to the constructor\n",
            "WARNING:tensorflow:From /usr/local/lib/python3.6/dist-packages/tensorflow_estimator/python/estimator/model_fn.py:337: scalar (from tensorflow.python.framework.tensor_shape) is deprecated and will be removed in a future version.\n",
            "Instructions for updating:\n",
            "Use tf.TensorShape([]).\n",
            "INFO:tensorflow:Done calling model_fn.\n",
            "INFO:tensorflow:Create CheckpointSaverHook.\n",
            "INFO:tensorflow:Graph was finalized.\n",
            "INFO:tensorflow:Running local_init_op.\n",
            "INFO:tensorflow:Done running local_init_op.\n",
            "WARNING:tensorflow:From /usr/local/lib/python3.6/dist-packages/tensorflow_core/python/training/monitored_session.py:882: start_queue_runners (from tensorflow.python.training.queue_runner_impl) is deprecated and will be removed in a future version.\n",
            "Instructions for updating:\n",
            "To construct input pipelines, use the `tf.data` module.\n",
            "INFO:tensorflow:Saving checkpoints for 0 into /tmp/tmpeqmkz68n/model.ckpt.\n",
            "INFO:tensorflow:loss = 47.097336, step = 0\n",
            "INFO:tensorflow:global_step/sec: 542.799\n",
            "INFO:tensorflow:loss = 2.3817892, step = 100 (0.194 sec)\n",
            "WARNING:tensorflow:It seems that global step (tf.train.get_global_step) has not been increased. Current value (could be stable): 125 vs previous value: 125. You could increase the global step by passing tf.train.get_global_step() to Optimizer.apply_gradients or Optimizer.minimize.\n",
            "INFO:tensorflow:global_step/sec: 579.61\n",
            "INFO:tensorflow:loss = 6.8334565, step = 200 (0.168 sec)\n",
            "INFO:tensorflow:global_step/sec: 649.288\n",
            "INFO:tensorflow:loss = 2.548692, step = 300 (0.153 sec)\n",
            "INFO:tensorflow:global_step/sec: 707.031\n",
            "INFO:tensorflow:loss = 1.902616, step = 400 (0.138 sec)\n",
            "INFO:tensorflow:global_step/sec: 649.026\n",
            "INFO:tensorflow:loss = 0.8168588, step = 500 (0.155 sec)\n",
            "INFO:tensorflow:global_step/sec: 628.632\n",
            "INFO:tensorflow:loss = 1.484467, step = 600 (0.164 sec)\n",
            "INFO:tensorflow:global_step/sec: 398.404\n",
            "INFO:tensorflow:loss = 0.33023503, step = 700 (0.249 sec)\n",
            "INFO:tensorflow:global_step/sec: 639.58\n",
            "INFO:tensorflow:loss = 1.3183231, step = 800 (0.153 sec)\n",
            "INFO:tensorflow:global_step/sec: 685.716\n",
            "INFO:tensorflow:loss = 1.10417, step = 900 (0.146 sec)\n",
            "INFO:tensorflow:Saving checkpoints for 1000 into /tmp/tmpeqmkz68n/model.ckpt.\n",
            "INFO:tensorflow:Loss for final step: 1.0062108.\n"
          ],
          "name": "stdout"
        },
        {
          "output_type": "execute_result",
          "data": {
            "text/plain": [
              "<tensorflow_estimator.python.estimator.canned.linear.LinearRegressorV2 at 0x7ff8c5e29518>"
            ]
          },
          "metadata": {
            "tags": []
          },
          "execution_count": 34
        }
      ]
    },
    {
      "cell_type": "code",
      "metadata": {
        "id": "QbOSRyh46n-T",
        "colab_type": "code",
        "colab": {
          "base_uri": "https://localhost:8080/",
          "height": 494
        },
        "outputId": "5af63210-a9ae-4f92-9e6c-9f8a01d5aae2"
      },
      "source": [
        "train_metrics = estimator.evaluate(input_fn=train_input_func, steps=1000)"
      ],
      "execution_count": 35,
      "outputs": [
        {
          "output_type": "stream",
          "text": [
            "INFO:tensorflow:Calling model_fn.\n",
            "WARNING:tensorflow:Layer linear/linear_model is casting an input tensor from dtype float64 to the layer's dtype of float32, which is new behavior in TensorFlow 2.  The layer has dtype float32 because it's dtype defaults to floatx.\n",
            "\n",
            "If you intended to run this layer in float32, you can safely ignore this warning. If in doubt, this warning is likely only an issue if you are porting a TensorFlow 1.X model to TensorFlow 2.\n",
            "\n",
            "To change all layers to have dtype float64 by default, call `tf.keras.backend.set_floatx('float64')`. To change just this layer, pass dtype='float64' to the layer constructor. If you are the author of this layer, you can disable autocasting by passing autocast=False to the base Layer constructor.\n",
            "\n",
            "INFO:tensorflow:Done calling model_fn.\n",
            "INFO:tensorflow:Starting evaluation at 2019-11-01T03:30:38Z\n",
            "INFO:tensorflow:Graph was finalized.\n",
            "INFO:tensorflow:Restoring parameters from /tmp/tmpeqmkz68n/model.ckpt-1000\n",
            "INFO:tensorflow:Running local_init_op.\n",
            "INFO:tensorflow:Done running local_init_op.\n",
            "INFO:tensorflow:Evaluation [100/1000]\n",
            "INFO:tensorflow:Evaluation [200/1000]\n",
            "INFO:tensorflow:Evaluation [300/1000]\n",
            "INFO:tensorflow:Evaluation [400/1000]\n",
            "INFO:tensorflow:Evaluation [500/1000]\n",
            "INFO:tensorflow:Evaluation [600/1000]\n",
            "INFO:tensorflow:Evaluation [700/1000]\n",
            "INFO:tensorflow:Evaluation [800/1000]\n",
            "INFO:tensorflow:Evaluation [900/1000]\n",
            "INFO:tensorflow:Evaluation [1000/1000]\n",
            "INFO:tensorflow:Finished evaluation at 2019-11-01-03:30:39\n",
            "INFO:tensorflow:Saving dict for global step 1000: average_loss = 1.0742393, global_step = 1000, label/mean = 7.49014, loss = 1.0742393, prediction/mean = 7.3734365\n",
            "INFO:tensorflow:Saving 'checkpoint_path' summary for global step 1000: /tmp/tmpeqmkz68n/model.ckpt-1000\n"
          ],
          "name": "stdout"
        }
      ]
    },
    {
      "cell_type": "code",
      "metadata": {
        "id": "TZ2gNv5T7uZi",
        "colab_type": "code",
        "colab": {
          "base_uri": "https://localhost:8080/",
          "height": 494
        },
        "outputId": "1cb8c438-e2b9-4253-9741-8aff9a04b142"
      },
      "source": [
        "eval_metrics = estimator.evaluate(input_fn=eval_input_func, steps=1000)"
      ],
      "execution_count": 36,
      "outputs": [
        {
          "output_type": "stream",
          "text": [
            "INFO:tensorflow:Calling model_fn.\n",
            "WARNING:tensorflow:Layer linear/linear_model is casting an input tensor from dtype float64 to the layer's dtype of float32, which is new behavior in TensorFlow 2.  The layer has dtype float32 because it's dtype defaults to floatx.\n",
            "\n",
            "If you intended to run this layer in float32, you can safely ignore this warning. If in doubt, this warning is likely only an issue if you are porting a TensorFlow 1.X model to TensorFlow 2.\n",
            "\n",
            "To change all layers to have dtype float64 by default, call `tf.keras.backend.set_floatx('float64')`. To change just this layer, pass dtype='float64' to the layer constructor. If you are the author of this layer, you can disable autocasting by passing autocast=False to the base Layer constructor.\n",
            "\n",
            "INFO:tensorflow:Done calling model_fn.\n",
            "INFO:tensorflow:Starting evaluation at 2019-11-01T03:30:40Z\n",
            "INFO:tensorflow:Graph was finalized.\n",
            "INFO:tensorflow:Restoring parameters from /tmp/tmpeqmkz68n/model.ckpt-1000\n",
            "INFO:tensorflow:Running local_init_op.\n",
            "INFO:tensorflow:Done running local_init_op.\n",
            "INFO:tensorflow:Evaluation [100/1000]\n",
            "INFO:tensorflow:Evaluation [200/1000]\n",
            "INFO:tensorflow:Evaluation [300/1000]\n",
            "INFO:tensorflow:Evaluation [400/1000]\n",
            "INFO:tensorflow:Evaluation [500/1000]\n",
            "INFO:tensorflow:Evaluation [600/1000]\n",
            "INFO:tensorflow:Evaluation [700/1000]\n",
            "INFO:tensorflow:Evaluation [800/1000]\n",
            "INFO:tensorflow:Evaluation [900/1000]\n",
            "INFO:tensorflow:Evaluation [1000/1000]\n",
            "INFO:tensorflow:Finished evaluation at 2019-11-01-03:30:42\n",
            "INFO:tensorflow:Saving dict for global step 1000: average_loss = 1.0711559, global_step = 1000, label/mean = 7.4638014, loss = 1.0711559, prediction/mean = 7.352451\n",
            "INFO:tensorflow:Saving 'checkpoint_path' summary for global step 1000: /tmp/tmpeqmkz68n/model.ckpt-1000\n"
          ],
          "name": "stdout"
        }
      ]
    },
    {
      "cell_type": "code",
      "metadata": {
        "id": "RXoGhzmM67Su",
        "colab_type": "code",
        "colab": {
          "base_uri": "https://localhost:8080/",
          "height": 52
        },
        "outputId": "133a002a-8df5-4e32-b3a5-a0e813481b70"
      },
      "source": [
        "print('TRAINING DATA METRICS')\n",
        "print(train_metrics)"
      ],
      "execution_count": 37,
      "outputs": [
        {
          "output_type": "stream",
          "text": [
            "TRAINING DATA METRICS\n",
            "{'average_loss': 1.0742393, 'label/mean': 7.49014, 'loss': 1.0742393, 'prediction/mean': 7.3734365, 'global_step': 1000}\n"
          ],
          "name": "stdout"
        }
      ]
    },
    {
      "cell_type": "code",
      "metadata": {
        "id": "LY9vSOD97l2k",
        "colab_type": "code",
        "colab": {
          "base_uri": "https://localhost:8080/",
          "height": 52
        },
        "outputId": "aac6e8a3-f28e-4861-9d47-0be28630d8dc"
      },
      "source": [
        "print(\"EVAL METRICS\")\n",
        "print(eval_metrics)"
      ],
      "execution_count": 38,
      "outputs": [
        {
          "output_type": "stream",
          "text": [
            "EVAL METRICS\n",
            "{'average_loss': 1.0711559, 'label/mean': 7.4638014, 'loss': 1.0711559, 'prediction/mean': 7.352451, 'global_step': 1000}\n"
          ],
          "name": "stdout"
        }
      ]
    },
    {
      "cell_type": "code",
      "metadata": {
        "id": "95ooFRIU7ml0",
        "colab_type": "code",
        "colab": {}
      },
      "source": [
        "brand_new_data = np.linspace(0, 10, 10)\n",
        "input_fn_predict = tf.compat.v1.estimator.inputs.numpy_input_fn({'x':brand_new_data}, shuffle=False)"
      ],
      "execution_count": 0,
      "outputs": []
    },
    {
      "cell_type": "code",
      "metadata": {
        "id": "e5-GDCkP-stw",
        "colab_type": "code",
        "colab": {
          "base_uri": "https://localhost:8080/",
          "height": 424
        },
        "outputId": "3321eb69-67c5-4688-b85c-96c6c0d376f6"
      },
      "source": [
        "list(estimator.predict(input_fn=input_fn_predict))"
      ],
      "execution_count": 40,
      "outputs": [
        {
          "output_type": "stream",
          "text": [
            "INFO:tensorflow:Calling model_fn.\n",
            "WARNING:tensorflow:Layer linear/linear_model is casting an input tensor from dtype float64 to the layer's dtype of float32, which is new behavior in TensorFlow 2.  The layer has dtype float32 because it's dtype defaults to floatx.\n",
            "\n",
            "If you intended to run this layer in float32, you can safely ignore this warning. If in doubt, this warning is likely only an issue if you are porting a TensorFlow 1.X model to TensorFlow 2.\n",
            "\n",
            "To change all layers to have dtype float64 by default, call `tf.keras.backend.set_floatx('float64')`. To change just this layer, pass dtype='float64' to the layer constructor. If you are the author of this layer, you can disable autocasting by passing autocast=False to the base Layer constructor.\n",
            "\n",
            "INFO:tensorflow:Done calling model_fn.\n",
            "INFO:tensorflow:Graph was finalized.\n",
            "INFO:tensorflow:Restoring parameters from /tmp/tmpeqmkz68n/model.ckpt-1000\n",
            "INFO:tensorflow:Running local_init_op.\n",
            "INFO:tensorflow:Done running local_init_op.\n"
          ],
          "name": "stdout"
        },
        {
          "output_type": "execute_result",
          "data": {
            "text/plain": [
              "[{'predictions': array([4.4690027], dtype=float32)},\n",
              " {'predictions': array([5.114141], dtype=float32)},\n",
              " {'predictions': array([5.7592797], dtype=float32)},\n",
              " {'predictions': array([6.404418], dtype=float32)},\n",
              " {'predictions': array([7.0495567], dtype=float32)},\n",
              " {'predictions': array([7.6946945], dtype=float32)},\n",
              " {'predictions': array([8.339833], dtype=float32)},\n",
              " {'predictions': array([8.984972], dtype=float32)},\n",
              " {'predictions': array([9.63011], dtype=float32)},\n",
              " {'predictions': array([10.275249], dtype=float32)}]"
            ]
          },
          "metadata": {
            "tags": []
          },
          "execution_count": 40
        }
      ]
    },
    {
      "cell_type": "code",
      "metadata": {
        "id": "Ae6lfFH8_F_H",
        "colab_type": "code",
        "colab": {
          "base_uri": "https://localhost:8080/",
          "height": 248
        },
        "outputId": "1d147510-45f8-4025-8492-9e3fc163a1c6"
      },
      "source": [
        "predictions = []\n",
        "for pred in estimator.predict(input_fn=input_fn_predict):\n",
        "  predictions.append(pred['predictions'])"
      ],
      "execution_count": 41,
      "outputs": [
        {
          "output_type": "stream",
          "text": [
            "INFO:tensorflow:Calling model_fn.\n",
            "WARNING:tensorflow:Layer linear/linear_model is casting an input tensor from dtype float64 to the layer's dtype of float32, which is new behavior in TensorFlow 2.  The layer has dtype float32 because it's dtype defaults to floatx.\n",
            "\n",
            "If you intended to run this layer in float32, you can safely ignore this warning. If in doubt, this warning is likely only an issue if you are porting a TensorFlow 1.X model to TensorFlow 2.\n",
            "\n",
            "To change all layers to have dtype float64 by default, call `tf.keras.backend.set_floatx('float64')`. To change just this layer, pass dtype='float64' to the layer constructor. If you are the author of this layer, you can disable autocasting by passing autocast=False to the base Layer constructor.\n",
            "\n",
            "INFO:tensorflow:Done calling model_fn.\n",
            "INFO:tensorflow:Graph was finalized.\n",
            "INFO:tensorflow:Restoring parameters from /tmp/tmpeqmkz68n/model.ckpt-1000\n",
            "INFO:tensorflow:Running local_init_op.\n",
            "INFO:tensorflow:Done running local_init_op.\n"
          ],
          "name": "stdout"
        }
      ]
    },
    {
      "cell_type": "code",
      "metadata": {
        "id": "W8VMlXdw_ZGU",
        "colab_type": "code",
        "colab": {
          "base_uri": "https://localhost:8080/",
          "height": 297
        },
        "outputId": "cce3b741-8947-4832-da69-3b95ae525ebb"
      },
      "source": [
        "my_data.sample(n=250).plot(kind='scatter', x='X data', y='y')\n",
        "plt.plot()"
      ],
      "execution_count": 42,
      "outputs": [
        {
          "output_type": "execute_result",
          "data": {
            "text/plain": [
              "[]"
            ]
          },
          "metadata": {
            "tags": []
          },
          "execution_count": 42
        },
        {
          "output_type": "display_data",
          "data": {
            "image/png": "[encoded data removed]",
            "text/plain": [
              "<Figure size 432x288 with 1 Axes>"
            ]
          },
          "metadata": {
            "tags": []
          }
        }
      ]
    },
    {
      "cell_type": "markdown",
      "metadata": {
        "id": "GpONJT9QBzK5",
        "colab_type": "text"
      },
      "source": [
        "### classification"
      ]
    },
    {
      "cell_type": "code",
      "metadata": {
        "id": "yWPtOWmIDpa-",
        "colab_type": "code",
        "colab": {
          "base_uri": "https://localhost:8080/",
          "height": 125
        },
        "outputId": "bbe48803-94ea-41a7-f538-e010e5403cd1"
      },
      "source": [
        "from google.colab import drive\n",
        "drive.mount('/content/drive')"
      ],
      "execution_count": 43,
      "outputs": [
        {
          "output_type": "stream",
          "text": [
            "Go to this URL in a browser: https://accounts.google.com/o/oauth2/auth?client_id=947318989803-6bn6qk8qdgf4n4g3pfee6491hc0brc4i.apps.googleusercontent.com&redirect_uri=urn%3Aietf%3Awg%3Aoauth%3A2.0%3Aoob&scope=email%20https%3A%2F%2Fwww.googleapis.com%2Fauth%2Fdocs.test%20https%3A%2F%2Fwww.googleapis.com%2Fauth%2Fdrive%20https%3A%2F%2Fwww.googleapis.com%2Fauth%2Fdrive.photos.readonly%20https%3A%2F%2Fwww.googleapis.com%2Fauth%2Fpeopleapi.readonly&response_type=code\n",
            "\n",
            "Enter your authorization code:\n",
            "··········\n",
            "Mounted at /content/drive\n"
          ],
          "name": "stdout"
        }
      ]
    },
    {
      "cell_type": "code",
      "metadata": {
        "id": "Sprx5-m7DrRT",
        "colab_type": "code",
        "colab": {}
      },
      "source": [
        "diabetes = pd.read_csv(\"/content/drive/My Drive/udemy_tf/FULL-TENSORFLOW-NOTES-AND-DATA/02-TensorFlow-Basics/pima-indians-diabetes.csv\")"
      ],
      "execution_count": 0,
      "outputs": []
    },
    {
      "cell_type": "code",
      "metadata": {
        "id": "qzaq-VPyIeLA",
        "colab_type": "code",
        "colab": {
          "base_uri": "https://localhost:8080/",
          "height": 70
        },
        "outputId": "54d37700-2671-4105-807e-9ee0ad040316"
      },
      "source": [
        "diabetes.columns"
      ],
      "execution_count": 45,
      "outputs": [
        {
          "output_type": "execute_result",
          "data": {
            "text/plain": [
              "Index(['Number_pregnant', 'Glucose_concentration', 'Blood_pressure', 'Triceps',\n",
              "       'Insulin', 'BMI', 'Pedigree', 'Age', 'Class', 'Group'],\n",
              "      dtype='object')"
            ]
          },
          "metadata": {
            "tags": []
          },
          "execution_count": 45
        }
      ]
    },
    {
      "cell_type": "code",
      "metadata": {
        "id": "yWp0GIgiE63a",
        "colab_type": "code",
        "colab": {}
      },
      "source": [
        "cols_to_norm = ['Number_pregnant', 'Glucose_concentration', 'Blood_pressure', 'Triceps',\n",
        "                'Insulin', 'BMI', 'Pedigree']"
      ],
      "execution_count": 0,
      "outputs": []
    },
    {
      "cell_type": "code",
      "metadata": {
        "id": "aOoim7fjImYd",
        "colab_type": "code",
        "colab": {}
      },
      "source": [
        "diabetes[cols_to_norm] = diabetes[cols_to_norm].apply(lambda x: x - x.min() / (x.max() - x.min()))"
      ],
      "execution_count": 0,
      "outputs": []
    },
    {
      "cell_type": "code",
      "metadata": {
        "id": "FAHY2VXmIw0k",
        "colab_type": "code",
        "colab": {
          "base_uri": "https://localhost:8080/",
          "height": 70
        },
        "outputId": "484c87d1-8591-4a7d-eef0-f710d2a3ebcd"
      },
      "source": [
        "diabetes.columns"
      ],
      "execution_count": 48,
      "outputs": [
        {
          "output_type": "execute_result",
          "data": {
            "text/plain": [
              "Index(['Number_pregnant', 'Glucose_concentration', 'Blood_pressure', 'Triceps',\n",
              "       'Insulin', 'BMI', 'Pedigree', 'Age', 'Class', 'Group'],\n",
              "      dtype='object')"
            ]
          },
          "metadata": {
            "tags": []
          },
          "execution_count": 48
        }
      ]
    },
    {
      "cell_type": "code",
      "metadata": {
        "id": "6iY-T3voJNTP",
        "colab_type": "code",
        "colab": {}
      },
      "source": [
        "num_preg = tf.feature_column.numeric_column('Number_pregnant')\n",
        "plasma_gluc = tf.feature_column.numeric_column('Glucose_concentration')\n",
        "dias_press = tf.feature_column.numeric_column('Blood_pressure')\n",
        "tricep = tf.feature_column.numeric_column('Triceps')\n",
        "insulin = tf.feature_column.numeric_column('Insulin')\n",
        "bmi = tf.feature_column.numeric_column('BMI')\n",
        "diabetes_pedigree = tf.feature_column.numeric_column('Pedigree')\n",
        "age = tf.feature_column.numeric_column('Age')"
      ],
      "execution_count": 0,
      "outputs": []
    },
    {
      "cell_type": "code",
      "metadata": {
        "id": "a0bblW4QL4GN",
        "colab_type": "code",
        "colab": {}
      },
      "source": [
        "assigned_group = tf.feature_column.categorical_column_with_vocabulary_list(\n",
        "    'Group', ['A', 'B', 'C' 'D'])\n",
        "# assigned_group = tf.feature_column.categorical_column_with_hash_bucket(\n",
        "#     'Group', hash_bucket_size=10)"
      ],
      "execution_count": 0,
      "outputs": []
    },
    {
      "cell_type": "code",
      "metadata": {
        "id": "k8hhuWdQCFa5",
        "colab_type": "code",
        "colab": {}
      },
      "source": [
        "import matplotlib.pyplot as plt\n",
        "%matplotlib inline"
      ],
      "execution_count": 0,
      "outputs": []
    },
    {
      "cell_type": "code",
      "metadata": {
        "id": "oetmBRLrCOKV",
        "colab_type": "code",
        "colab": {
          "base_uri": "https://localhost:8080/",
          "height": 282
        },
        "outputId": "f03c39f7-d419-46a4-8628-a24a6fd4762f"
      },
      "source": [
        "diabetes['Age'].hist(bins=20)"
      ],
      "execution_count": 53,
      "outputs": [
        {
          "output_type": "execute_result",
          "data": {
            "text/plain": [
              "<matplotlib.axes._subplots.AxesSubplot at 0x7ff8bd6d9d68>"
            ]
          },
          "metadata": {
            "tags": []
          },
          "execution_count": 53
        },
        {
          "output_type": "display_data",
          "data": {
            "image/png": "[encoded data removed]",
            "text/plain": [
              "<Figure size 432x288 with 1 Axes>"
            ]
          },
          "metadata": {
            "tags": []
          }
        }
      ]
    },
    {
      "cell_type": "code",
      "metadata": {
        "id": "ftQ9bjQBDtvp",
        "colab_type": "code",
        "colab": {}
      },
      "source": [
        "age_bucket = tf.feature_column.bucketized_column(age, boundaries=[20, 30, 40, 50, 60, 70])"
      ],
      "execution_count": 0,
      "outputs": []
    },
    {
      "cell_type": "code",
      "metadata": {
        "id": "qvW3-VDCD5z4",
        "colab_type": "code",
        "colab": {}
      },
      "source": [
        "feat_cols = [num_preg, plasma_gluc, dias_press, tricep, insulin, bmi, diabetes_pedigree, assigned_group, age_bucket]\n"
      ],
      "execution_count": 0,
      "outputs": []
    },
    {
      "cell_type": "markdown",
      "metadata": {
        "id": "QcgFLRTJEKvG",
        "colab_type": "text"
      },
      "source": [
        "### TRAIN TEST SPLIT"
      ]
    },
    {
      "cell_type": "code",
      "metadata": {
        "id": "l-9SLMjBJWQQ",
        "colab_type": "code",
        "colab": {}
      },
      "source": [
        "x_data = diabetes.drop('Class', axis=1)\n",
        "labels = diabetes['Class']"
      ],
      "execution_count": 0,
      "outputs": []
    },
    {
      "cell_type": "code",
      "metadata": {
        "id": "0AmFIx5OJ_Ev",
        "colab_type": "code",
        "colab": {}
      },
      "source": [
        "from sklearn.model_selection import train_test_split\n",
        "X_train, X_test, y_train, y_test = train_test_split(x_data, labels, test_size=.3, random_state=101)"
      ],
      "execution_count": 0,
      "outputs": []
    },
    {
      "cell_type": "code",
      "metadata": {
        "id": "-z-tHPjDKK6v",
        "colab_type": "code",
        "colab": {}
      },
      "source": [
        "input_func = tf.compat.v1.estimator.inputs.pandas_input_fn(\n",
        "    x=X_train, y=y_train, batch_size=10, num_epochs=1000, shuffle=True\n",
        ")"
      ],
      "execution_count": 0,
      "outputs": []
    },
    {
      "cell_type": "code",
      "metadata": {
        "id": "Ls8BPDybKuaE",
        "colab_type": "code",
        "colab": {
          "base_uri": "https://localhost:8080/",
          "height": 195
        },
        "outputId": "d655ae64-8942-43fe-9b9b-da2d58f3148b"
      },
      "source": [
        "model = tf.compat.v1.estimator.LinearClassifier(feature_columns=feat_cols, n_classes=2)"
      ],
      "execution_count": 65,
      "outputs": [
        {
          "output_type": "stream",
          "text": [
            "INFO:tensorflow:Using default config.\n",
            "WARNING:tensorflow:Using temporary folder as model directory: /tmp/tmp5ylv3ohm\n",
            "INFO:tensorflow:Using config: {'_model_dir': '/tmp/tmp5ylv3ohm', '_tf_random_seed': None, '_save_summary_steps': 100, '_save_checkpoints_steps': None, '_save_checkpoints_secs': 600, '_session_config': allow_soft_placement: true\n",
            "graph_options {\n",
            "  rewrite_options {\n",
            "    meta_optimizer_iterations: ONE\n",
            "  }\n",
            "}\n",
            ", '_keep_checkpoint_max': 5, '_keep_checkpoint_every_n_hours': 10000, '_log_step_count_steps': 100, '_train_distribute': None, '_device_fn': None, '_protocol': None, '_eval_distribute': None, '_experimental_distribute': None, '_experimental_max_worker_delay_secs': None, '_service': None, '_cluster_spec': <tensorflow.python.training.server_lib.ClusterSpec object at 0x7ff8bca53400>, '_task_type': 'worker', '_task_id': 0, '_global_id_in_cluster': 0, '_master': '', '_evaluation_master': '', '_is_chief': True, '_num_ps_replicas': 0, '_num_worker_replicas': 1}\n"
          ],
          "name": "stdout"
        }
      ]
    },
    {
      "cell_type": "code",
      "metadata": {
        "id": "dbWACCIULaph",
        "colab_type": "code",
        "colab": {
          "base_uri": "https://localhost:8080/",
          "height": 706
        },
        "outputId": "8c5f87d5-b744-495e-fb1b-938c045c3758"
      },
      "source": [
        "model.train(input_fn=input_func, steps=1000)"
      ],
      "execution_count": 66,
      "outputs": [
        {
          "output_type": "stream",
          "text": [
            "INFO:tensorflow:Calling model_fn.\n",
            "WARNING:tensorflow:Layer linear_model is casting an input tensor from dtype float64 to the layer's dtype of float32, which is new behavior in TensorFlow 2.  The layer has dtype float32 because it's dtype defaults to floatx.\n",
            "\n",
            "If you intended to run this layer in float32, you can safely ignore this warning. If in doubt, this warning is likely only an issue if you are porting a TensorFlow 1.X model to TensorFlow 2.\n",
            "\n",
            "To change all layers to have dtype float64 by default, call `tf.keras.backend.set_floatx('float64')`. To change just this layer, pass dtype='float64' to the layer constructor. If you are the author of this layer, you can disable autocasting by passing autocast=False to the base Layer constructor.\n",
            "\n",
            "INFO:tensorflow:Done calling model_fn.\n",
            "INFO:tensorflow:Create CheckpointSaverHook.\n",
            "INFO:tensorflow:Graph was finalized.\n",
            "INFO:tensorflow:Running local_init_op.\n",
            "INFO:tensorflow:Done running local_init_op.\n",
            "INFO:tensorflow:Saving checkpoints for 0 into /tmp/tmp5ylv3ohm/model.ckpt.\n",
            "INFO:tensorflow:loss = 6.931472, step = 0\n",
            "INFO:tensorflow:global_step/sec: 188.736\n",
            "INFO:tensorflow:loss = 7.6217294, step = 100 (0.537 sec)\n",
            "INFO:tensorflow:global_step/sec: 240.96\n",
            "INFO:tensorflow:loss = 6.752112, step = 200 (0.425 sec)\n",
            "INFO:tensorflow:global_step/sec: 227.552\n",
            "INFO:tensorflow:loss = 5.268016, step = 300 (0.426 sec)\n",
            "INFO:tensorflow:global_step/sec: 247.48\n",
            "INFO:tensorflow:loss = 5.7231016, step = 400 (0.415 sec)\n",
            "WARNING:tensorflow:It seems that global step (tf.train.get_global_step) has not been increased. Current value (could be stable): 456 vs previous value: 456. You could increase the global step by passing tf.train.get_global_step() to Optimizer.apply_gradients or Optimizer.minimize.\n",
            "INFO:tensorflow:global_step/sec: 234.938\n",
            "INFO:tensorflow:loss = 3.902171, step = 500 (0.426 sec)\n",
            "INFO:tensorflow:global_step/sec: 233.653\n",
            "INFO:tensorflow:loss = 4.4907293, step = 600 (0.417 sec)\n",
            "INFO:tensorflow:global_step/sec: 227.965\n",
            "INFO:tensorflow:loss = 4.333513, step = 700 (0.447 sec)\n",
            "INFO:tensorflow:global_step/sec: 227.38\n",
            "INFO:tensorflow:loss = 6.3197303, step = 800 (0.442 sec)\n",
            "WARNING:tensorflow:It seems that global step (tf.train.get_global_step) has not been increased. Current value (could be stable): 868 vs previous value: 868. You could increase the global step by passing tf.train.get_global_step() to Optimizer.apply_gradients or Optimizer.minimize.\n",
            "INFO:tensorflow:global_step/sec: 225.23\n",
            "INFO:tensorflow:loss = 5.8032923, step = 900 (0.447 sec)\n",
            "WARNING:tensorflow:It seems that global step (tf.train.get_global_step) has not been increased. Current value (could be stable): 994 vs previous value: 994. You could increase the global step by passing tf.train.get_global_step() to Optimizer.apply_gradients or Optimizer.minimize.\n",
            "INFO:tensorflow:Saving checkpoints for 1000 into /tmp/tmp5ylv3ohm/model.ckpt.\n",
            "INFO:tensorflow:Loss for final step: 8.385414.\n"
          ],
          "name": "stdout"
        },
        {
          "output_type": "execute_result",
          "data": {
            "text/plain": [
              "<tensorflow_estimator.python.estimator.canned.linear.LinearClassifier at 0x7ff8bca534e0>"
            ]
          },
          "metadata": {
            "tags": []
          },
          "execution_count": 66
        }
      ]
    },
    {
      "cell_type": "code",
      "metadata": {
        "id": "cP6ZMD0aLoub",
        "colab_type": "code",
        "colab": {}
      },
      "source": [
        "eval_input_func = tf.compat.v1.estimator.inputs.pandas_input_fn(\n",
        "    x=X_test, y=y_test, batch_size=10, num_epochs=1, shuffle=False\n",
        ")"
      ],
      "execution_count": 0,
      "outputs": []
    },
    {
      "cell_type": "code",
      "metadata": {
        "id": "I6mCxtPkLxKQ",
        "colab_type": "code",
        "colab": {
          "base_uri": "https://localhost:8080/",
          "height": 406
        },
        "outputId": "62d631d2-7f12-4025-a5ab-e339dd80e5eb"
      },
      "source": [
        "result = model.evaluate(eval_input_func)"
      ],
      "execution_count": 70,
      "outputs": [
        {
          "output_type": "stream",
          "text": [
            "INFO:tensorflow:Calling model_fn.\n",
            "WARNING:tensorflow:Layer linear_model is casting an input tensor from dtype float64 to the layer's dtype of float32, which is new behavior in TensorFlow 2.  The layer has dtype float32 because it's dtype defaults to floatx.\n",
            "\n",
            "If you intended to run this layer in float32, you can safely ignore this warning. If in doubt, this warning is likely only an issue if you are porting a TensorFlow 1.X model to TensorFlow 2.\n",
            "\n",
            "To change all layers to have dtype float64 by default, call `tf.keras.backend.set_floatx('float64')`. To change just this layer, pass dtype='float64' to the layer constructor. If you are the author of this layer, you can disable autocasting by passing autocast=False to the base Layer constructor.\n",
            "\n",
            "WARNING:tensorflow:From /usr/local/lib/python3.6/dist-packages/tensorflow_core/python/ops/metrics_impl.py:2026: div (from tensorflow.python.ops.math_ops) is deprecated and will be removed in a future version.\n",
            "Instructions for updating:\n",
            "Deprecated in favor of operator or tf.math.divide.\n",
            "WARNING:tensorflow:Trapezoidal rule is known to produce incorrect PR-AUCs; please switch to \"careful_interpolation\" instead.\n",
            "WARNING:tensorflow:Trapezoidal rule is known to produce incorrect PR-AUCs; please switch to \"careful_interpolation\" instead.\n",
            "INFO:tensorflow:Done calling model_fn.\n",
            "INFO:tensorflow:Starting evaluation at 2019-11-01T04:18:30Z\n",
            "INFO:tensorflow:Graph was finalized.\n",
            "INFO:tensorflow:Restoring parameters from /tmp/tmp5ylv3ohm/model.ckpt-1000\n",
            "INFO:tensorflow:Running local_init_op.\n",
            "INFO:tensorflow:Done running local_init_op.\n",
            "INFO:tensorflow:Finished evaluation at 2019-11-01-04:18:31\n",
            "INFO:tensorflow:Saving dict for global step 1000: accuracy = 0.73593074, accuracy_baseline = 0.64935064, auc = 0.7945679, auc_precision_recall = 0.6377018, average_loss = 0.53254104, global_step = 1000, label/mean = 0.35064936, loss = 5.125707, precision = 0.6351351, prediction/mean = 0.38397023, recall = 0.5802469\n",
            "INFO:tensorflow:Saving 'checkpoint_path' summary for global step 1000: /tmp/tmp5ylv3ohm/model.ckpt-1000\n"
          ],
          "name": "stdout"
        }
      ]
    },
    {
      "cell_type": "code",
      "metadata": {
        "id": "IGUHYXraL53V",
        "colab_type": "code",
        "colab": {
          "base_uri": "https://localhost:8080/",
          "height": 210
        },
        "outputId": "4c315e96-0fb0-45bc-9f05-98dae8e09a98"
      },
      "source": [
        "result"
      ],
      "execution_count": 72,
      "outputs": [
        {
          "output_type": "execute_result",
          "data": {
            "text/plain": [
              "{'accuracy': 0.73593074,\n",
              " 'accuracy_baseline': 0.64935064,\n",
              " 'auc': 0.7945679,\n",
              " 'auc_precision_recall': 0.6377018,\n",
              " 'average_loss': 0.53254104,\n",
              " 'global_step': 1000,\n",
              " 'label/mean': 0.35064936,\n",
              " 'loss': 5.125707,\n",
              " 'precision': 0.6351351,\n",
              " 'prediction/mean': 0.38397023,\n",
              " 'recall': 0.5802469}"
            ]
          },
          "metadata": {
            "tags": []
          },
          "execution_count": 72
        }
      ]
    },
    {
      "cell_type": "code",
      "metadata": {
        "id": "C6eIR3XDM2z4",
        "colab_type": "code",
        "colab": {}
      },
      "source": [
        "pred_input_func = tf.compat.v1.estimator.inputs.pandas_input_fn(\n",
        "    x=X_test, batch_size=10, num_epochs=1, shuffle=False)"
      ],
      "execution_count": 0,
      "outputs": []
    },
    {
      "cell_type": "code",
      "metadata": {
        "id": "OlVm3c2VM9ze",
        "colab_type": "code",
        "colab": {}
      },
      "source": [
        "predictions = model.predict(pred_input_func)"
      ],
      "execution_count": 0,
      "outputs": []
    },
    {
      "cell_type": "code",
      "metadata": {
        "id": "2foQ9WXwNDPs",
        "colab_type": "code",
        "colab": {
          "base_uri": "https://localhost:8080/",
          "height": 248
        },
        "outputId": "d49b74c7-4896-4dec-be14-088088c07ee8"
      },
      "source": [
        "my_pred = list(predictions)"
      ],
      "execution_count": 77,
      "outputs": [
        {
          "output_type": "stream",
          "text": [
            "INFO:tensorflow:Calling model_fn.\n",
            "WARNING:tensorflow:Layer linear_model is casting an input tensor from dtype float64 to the layer's dtype of float32, which is new behavior in TensorFlow 2.  The layer has dtype float32 because it's dtype defaults to floatx.\n",
            "\n",
            "If you intended to run this layer in float32, you can safely ignore this warning. If in doubt, this warning is likely only an issue if you are porting a TensorFlow 1.X model to TensorFlow 2.\n",
            "\n",
            "To change all layers to have dtype float64 by default, call `tf.keras.backend.set_floatx('float64')`. To change just this layer, pass dtype='float64' to the layer constructor. If you are the author of this layer, you can disable autocasting by passing autocast=False to the base Layer constructor.\n",
            "\n",
            "INFO:tensorflow:Done calling model_fn.\n",
            "INFO:tensorflow:Graph was finalized.\n",
            "INFO:tensorflow:Restoring parameters from /tmp/tmp5ylv3ohm/model.ckpt-1000\n",
            "INFO:tensorflow:Running local_init_op.\n",
            "INFO:tensorflow:Done running local_init_op.\n"
          ],
          "name": "stdout"
        }
      ]
    },
    {
      "cell_type": "code",
      "metadata": {
        "id": "mo4YO0pDNEhY",
        "colab_type": "code",
        "colab": {}
      },
      "source": [
        "my_pred"
      ],
      "execution_count": 0,
      "outputs": []
    },
    {
      "cell_type": "code",
      "metadata": {
        "id": "4tf-xzS1Ni0N",
        "colab_type": "code",
        "colab": {
          "base_uri": "https://localhost:8080/",
          "height": 195
        },
        "outputId": "d0735f9c-2140-4920-d0f3-d15cf7c03a2f"
      },
      "source": [
        "dnn_model = tf.estimator.DNNClassifier(hidden_units = [10,10,10], feature_columns=feat_cols,\n",
        "                                       n_classes=2)"
      ],
      "execution_count": 79,
      "outputs": [
        {
          "output_type": "stream",
          "text": [
            "INFO:tensorflow:Using default config.\n",
            "WARNING:tensorflow:Using temporary folder as model directory: /tmp/tmp182kt31z\n",
            "INFO:tensorflow:Using config: {'_model_dir': '/tmp/tmp182kt31z', '_tf_random_seed': None, '_save_summary_steps': 100, '_save_checkpoints_steps': None, '_save_checkpoints_secs': 600, '_session_config': allow_soft_placement: true\n",
            "graph_options {\n",
            "  rewrite_options {\n",
            "    meta_optimizer_iterations: ONE\n",
            "  }\n",
            "}\n",
            ", '_keep_checkpoint_max': 5, '_keep_checkpoint_every_n_hours': 10000, '_log_step_count_steps': 100, '_train_distribute': None, '_device_fn': None, '_protocol': None, '_eval_distribute': None, '_experimental_distribute': None, '_experimental_max_worker_delay_secs': None, '_service': None, '_cluster_spec': <tensorflow.python.training.server_lib.ClusterSpec object at 0x7ff8bb00e518>, '_task_type': 'worker', '_task_id': 0, '_global_id_in_cluster': 0, '_master': '', '_evaluation_master': '', '_is_chief': True, '_num_ps_replicas': 0, '_num_worker_replicas': 1}\n"
          ],
          "name": "stdout"
        }
      ]
    },
    {
      "cell_type": "code",
      "metadata": {
        "id": "yQiCwTeFNp_y",
        "colab_type": "code",
        "colab": {}
      },
      "source": [
        "embedded_group_col = tf.feature_column.embedding_column(assigned_group, dimension=4)\n",
        "feat_cols = [num_preg, plasma_gluc, dias_press, tricep, insulin, bmi, diabetes_pedigree, embedded_group_col, age_bucket]"
      ],
      "execution_count": 0,
      "outputs": []
    },
    {
      "cell_type": "code",
      "metadata": {
        "id": "lVwf_a3eN90M",
        "colab_type": "code",
        "colab": {
          "base_uri": "https://localhost:8080/",
          "height": 195
        },
        "outputId": "78ad36fb-a492-4254-d21d-6bd5f5d090d3"
      },
      "source": [
        "input_func = tf.compat.v1.estimator.inputs.pandas_input_fn(\n",
        "    X_train, y_train, batch_size=10, num_epochs=1000, shuffle=True)\n",
        "dnn_model = tf.compat.v1.estimator.DNNClassifier(hidden_units=[10,10,10], feature_columns=feat_cols, n_classes=2)"
      ],
      "execution_count": 85,
      "outputs": [
        {
          "output_type": "stream",
          "text": [
            "INFO:tensorflow:Using default config.\n",
            "WARNING:tensorflow:Using temporary folder as model directory: /tmp/tmplj2tg2qb\n",
            "INFO:tensorflow:Using config: {'_model_dir': '/tmp/tmplj2tg2qb', '_tf_random_seed': None, '_save_summary_steps': 100, '_save_checkpoints_steps': None, '_save_checkpoints_secs': 600, '_session_config': allow_soft_placement: true\n",
            "graph_options {\n",
            "  rewrite_options {\n",
            "    meta_optimizer_iterations: ONE\n",
            "  }\n",
            "}\n",
            ", '_keep_checkpoint_max': 5, '_keep_checkpoint_every_n_hours': 10000, '_log_step_count_steps': 100, '_train_distribute': None, '_device_fn': None, '_protocol': None, '_eval_distribute': None, '_experimental_distribute': None, '_experimental_max_worker_delay_secs': None, '_service': None, '_cluster_spec': <tensorflow.python.training.server_lib.ClusterSpec object at 0x7ff8b9ec7cf8>, '_task_type': 'worker', '_task_id': 0, '_global_id_in_cluster': 0, '_master': '', '_evaluation_master': '', '_is_chief': True, '_num_ps_replicas': 0, '_num_worker_replicas': 1}\n"
          ],
          "name": "stdout"
        }
      ]
    },
    {
      "cell_type": "code",
      "metadata": {
        "id": "f-3T86ZSOtkt",
        "colab_type": "code",
        "colab": {
          "base_uri": "https://localhost:8080/",
          "height": 723
        },
        "outputId": "59df77de-b486-49b8-ead4-f86e2eec10b3"
      },
      "source": [
        "dnn_model.train(input_fn=input_func, steps=1000)"
      ],
      "execution_count": 86,
      "outputs": [
        {
          "output_type": "stream",
          "text": [
            "INFO:tensorflow:Calling model_fn.\n",
            "WARNING:tensorflow:Layer dnn is casting an input tensor from dtype float64 to the layer's dtype of float32, which is new behavior in TensorFlow 2.  The layer has dtype float32 because it's dtype defaults to floatx.\n",
            "\n",
            "If you intended to run this layer in float32, you can safely ignore this warning. If in doubt, this warning is likely only an issue if you are porting a TensorFlow 1.X model to TensorFlow 2.\n",
            "\n",
            "To change all layers to have dtype float64 by default, call `tf.keras.backend.set_floatx('float64')`. To change just this layer, pass dtype='float64' to the layer constructor. If you are the author of this layer, you can disable autocasting by passing autocast=False to the base Layer constructor.\n",
            "\n",
            "WARNING:tensorflow:From /usr/local/lib/python3.6/dist-packages/tensorflow_core/python/feature_column/feature_column_v2.py:3089: VocabularyListCategoricalColumn._num_buckets (from tensorflow.python.feature_column.feature_column_v2) is deprecated and will be removed in a future version.\n",
            "Instructions for updating:\n",
            "The old _FeatureColumn APIs are being deprecated. Please use the new FeatureColumn APIs instead.\n",
            "INFO:tensorflow:Done calling model_fn.\n",
            "INFO:tensorflow:Create CheckpointSaverHook.\n",
            "INFO:tensorflow:Graph was finalized.\n",
            "INFO:tensorflow:Running local_init_op.\n",
            "INFO:tensorflow:Done running local_init_op.\n",
            "INFO:tensorflow:Saving checkpoints for 0 into /tmp/tmplj2tg2qb/model.ckpt.\n",
            "INFO:tensorflow:loss = 7.4388566, step = 0\n",
            "INFO:tensorflow:global_step/sec: 157.788\n",
            "INFO:tensorflow:loss = 5.752004, step = 100 (0.633 sec)\n",
            "INFO:tensorflow:global_step/sec: 242.518\n",
            "INFO:tensorflow:loss = 5.568722, step = 200 (0.417 sec)\n",
            "WARNING:tensorflow:It seems that global step (tf.train.get_global_step) has not been increased. Current value (could be stable): 228 vs previous value: 228. You could increase the global step by passing tf.train.get_global_step() to Optimizer.apply_gradients or Optimizer.minimize.\n",
            "INFO:tensorflow:global_step/sec: 210.436\n",
            "INFO:tensorflow:loss = 6.4125767, step = 300 (0.470 sec)\n",
            "INFO:tensorflow:global_step/sec: 139.623\n",
            "INFO:tensorflow:loss = 5.382653, step = 400 (0.724 sec)\n",
            "INFO:tensorflow:global_step/sec: 197.506\n",
            "INFO:tensorflow:loss = 4.382527, step = 500 (0.502 sec)\n",
            "INFO:tensorflow:global_step/sec: 207.129\n",
            "INFO:tensorflow:loss = 3.2968888, step = 600 (0.484 sec)\n",
            "INFO:tensorflow:global_step/sec: 198.738\n",
            "INFO:tensorflow:loss = 5.5251226, step = 700 (0.505 sec)\n",
            "INFO:tensorflow:global_step/sec: 203.909\n",
            "INFO:tensorflow:loss = 6.7886424, step = 800 (0.485 sec)\n",
            "INFO:tensorflow:global_step/sec: 213.692\n",
            "INFO:tensorflow:loss = 4.518714, step = 900 (0.470 sec)\n",
            "INFO:tensorflow:Saving checkpoints for 1000 into /tmp/tmplj2tg2qb/model.ckpt.\n",
            "INFO:tensorflow:Loss for final step: 3.9032667.\n"
          ],
          "name": "stdout"
        },
        {
          "output_type": "execute_result",
          "data": {
            "text/plain": [
              "<tensorflow_estimator.python.estimator.canned.dnn.DNNClassifier at 0x7ff8b9f31ac8>"
            ]
          },
          "metadata": {
            "tags": []
          },
          "execution_count": 86
        }
      ]
    },
    {
      "cell_type": "code",
      "metadata": {
        "id": "RONu_gKtO1eJ",
        "colab_type": "code",
        "colab": {}
      },
      "source": [
        "eval_input_func = tf.compat.v1.estimator.inputs.pandas_input_fn(\n",
        "    x=X_test, y=y_test, batch_size=10, num_epochs=1, shuffle=False\n",
        ")"
      ],
      "execution_count": 0,
      "outputs": []
    },
    {
      "cell_type": "code",
      "metadata": {
        "id": "YGJO4s_DPDW8",
        "colab_type": "code",
        "colab": {
          "base_uri": "https://localhost:8080/",
          "height": 547
        },
        "outputId": "765dde76-9b7f-4d6c-9a0e-ff3ded2ad288"
      },
      "source": [
        "dnn_model.evaluate(eval_input_func)"
      ],
      "execution_count": 89,
      "outputs": [
        {
          "output_type": "stream",
          "text": [
            "INFO:tensorflow:Calling model_fn.\n",
            "WARNING:tensorflow:Layer dnn is casting an input tensor from dtype float64 to the layer's dtype of float32, which is new behavior in TensorFlow 2.  The layer has dtype float32 because it's dtype defaults to floatx.\n",
            "\n",
            "If you intended to run this layer in float32, you can safely ignore this warning. If in doubt, this warning is likely only an issue if you are porting a TensorFlow 1.X model to TensorFlow 2.\n",
            "\n",
            "To change all layers to have dtype float64 by default, call `tf.keras.backend.set_floatx('float64')`. To change just this layer, pass dtype='float64' to the layer constructor. If you are the author of this layer, you can disable autocasting by passing autocast=False to the base Layer constructor.\n",
            "\n",
            "WARNING:tensorflow:Trapezoidal rule is known to produce incorrect PR-AUCs; please switch to \"careful_interpolation\" instead.\n",
            "WARNING:tensorflow:Trapezoidal rule is known to produce incorrect PR-AUCs; please switch to \"careful_interpolation\" instead.\n",
            "INFO:tensorflow:Done calling model_fn.\n",
            "INFO:tensorflow:Starting evaluation at 2019-11-01T04:32:32Z\n",
            "INFO:tensorflow:Graph was finalized.\n",
            "INFO:tensorflow:Restoring parameters from /tmp/tmplj2tg2qb/model.ckpt-1000\n",
            "INFO:tensorflow:Running local_init_op.\n",
            "INFO:tensorflow:Done running local_init_op.\n",
            "INFO:tensorflow:Finished evaluation at 2019-11-01-04:32:34\n",
            "INFO:tensorflow:Saving dict for global step 1000: accuracy = 0.72727275, accuracy_baseline = 0.64935064, auc = 0.7934156, auc_precision_recall = 0.6617691, average_loss = 0.5155096, global_step = 1000, label/mean = 0.35064936, loss = 4.96178, precision = 0.60465115, prediction/mean = 0.37644732, recall = 0.6419753\n",
            "INFO:tensorflow:Saving 'checkpoint_path' summary for global step 1000: /tmp/tmplj2tg2qb/model.ckpt-1000\n"
          ],
          "name": "stdout"
        },
        {
          "output_type": "execute_result",
          "data": {
            "text/plain": [
              "{'accuracy': 0.72727275,\n",
              " 'accuracy_baseline': 0.64935064,\n",
              " 'auc': 0.7934156,\n",
              " 'auc_precision_recall': 0.6617691,\n",
              " 'average_loss': 0.5155096,\n",
              " 'global_step': 1000,\n",
              " 'label/mean': 0.35064936,\n",
              " 'loss': 4.96178,\n",
              " 'precision': 0.60465115,\n",
              " 'prediction/mean': 0.37644732,\n",
              " 'recall': 0.6419753}"
            ]
          },
          "metadata": {
            "tags": []
          },
          "execution_count": 89
        }
      ]
    },
    {
      "cell_type": "code",
      "metadata": {
        "id": "rse6Es-nPH2X",
        "colab_type": "code",
        "colab": {}
      },
      "source": [
        ""
      ],
      "execution_count": 0,
      "outputs": []
    }
  ]
}